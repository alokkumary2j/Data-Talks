{
 "cells": [
  {
   "cell_type": "code",
   "execution_count": 1,
   "metadata": {
    "collapsed": false
   },
   "outputs": [],
   "source": [
    "%matplotlib inline\n",
    "import pandas as pd\n",
    "import numpy as np\n",
    "import matplotlib.pyplot as plt\n",
    "import matplotlib.cm as cm\n",
    "import os\n",
    "from sklearn.preprocessing import LabelEncoder\n",
    "from sklearn.cross_validation import KFold\n",
    "from sklearn.metrics import log_loss"
   ]
  },
  {
   "cell_type": "code",
   "execution_count": 2,
   "metadata": {
    "collapsed": false
   },
   "outputs": [],
   "source": [
    "app_events = pd.read_csv('../Data/app_events.csv')\n",
    "app_labels = pd.read_csv('../Data/app_labels.csv')\n",
    "events = pd.read_csv('../Data/events.csv')\n",
    "gender_age_train = pd.read_csv('../Data/gender_age_train.csv')\n",
    "gender_age_test = pd.read_csv('../Data/gender_age_test.csv')\n",
    "label_categories = pd.read_csv('../Data/label_categories.csv')\n",
    "phone_brand_device_model = pd.read_csv('../Data/phone_brand_device_model.csv',encoding='utf-8')\n",
    "phone_brand_device_model = phone_brand_device_model.drop_duplicates('device_id',keep='first')"
   ]
  },
  {
   "cell_type": "code",
   "execution_count": 3,
   "metadata": {
    "collapsed": true
   },
   "outputs": [],
   "source": [
    "#Does brand name conversion matter?\n",
    "#Seems not, other than for EDA.\n",
    "#https://www.kaggle.com/c/talkingdata-mobile-user-demographics/forums/t/22270/do-brand-and-phone-names-really-matter/\n",
    "#Prior work : https://www.kaggle.com/c/talkingdata-mobile-user-demographics/forums/t/22186/chinese-brands\n",
    "#Planning to try Google Translation API for conversion [ comes free with Google cloud signup ]\n",
    "#Less Priority as of now"
   ]
  },
  {
   "cell_type": "code",
   "execution_count": 4,
   "metadata": {
    "collapsed": false
   },
   "outputs": [],
   "source": [
    "phone_brand_master = gender_age_train.merge(phone_brand_device_model[['device_id','phone_brand','device_model']], how='left',on='device_id')\n",
    "phone_brand_master['brand_model'] = phone_brand_master['phone_brand'] + ' ' + phone_brand_master['device_model']\n",
    "#Above brand and model can be considered separately[Uniq Brands:131,Uniq Models:1599]\n",
    "phone_brand_master.brand_model.fillna('',inplace=True)"
   ]
  },
  {
   "cell_type": "code",
   "execution_count": 5,
   "metadata": {
    "collapsed": false
   },
   "outputs": [],
   "source": [
    "phone_brand_master_test = gender_age_test.merge(phone_brand_device_model[['device_id','phone_brand','device_model']], how='left',on='device_id')\n",
    "phone_brand_master_test['brand_model'] = phone_brand_master_test['phone_brand'] + ' ' + phone_brand_master_test['device_model']\n",
    "phone_brand_master_test.brand_model.fillna('',inplace=True)\n",
    "#Till Now, Have only used 2 features (Phone Brand, Device Model)"
   ]
  },
  {
   "cell_type": "code",
   "execution_count": 6,
   "metadata": {
    "collapsed": false
   },
   "outputs": [],
   "source": [
    "from sklearn.feature_extraction.text import CountVectorizer\n",
    "\n",
    "vectorizer = CountVectorizer(ngram_range=(1,2),min_df=0.0)\n",
    "vect_matrix = vectorizer.fit_transform(phone_brand_master['brand_model'])\n",
    "test_vect_matrix = vectorizer.transform(phone_brand_master_test['brand_model'])"
   ]
  },
  {
   "cell_type": "code",
   "execution_count": 7,
   "metadata": {
    "collapsed": true
   },
   "outputs": [],
   "source": [
    "def validateModel(X,y, model):\n",
    "    kf = KFold(X.shape[0], n_folds=5, shuffle=True, random_state=0)\n",
    "    for itrain, itest in kf:\n",
    "        train = X[itrain,:]\n",
    "        test = X[itest,:]\n",
    "        ytrain, ytest = y[itrain], y[itest]\n",
    "        clf = model.fit(train,ytrain)\n",
    "        ypred = clf.predict_proba(test)\n",
    "        print(ypred.shape)\n",
    "        print(log_loss(ytest, ypred))\n",
    "        \n",
    "def getModelOutput(X,y,X2, model):\n",
    "    kf = KFold(X.shape[0], n_folds=5, shuffle=True, random_state=0)\n",
    "    for itrain, itest in kf:\n",
    "        train = X[itrain,:]\n",
    "        test = X[itest,:]\n",
    "        ytrain, ytest = y[itrain], y[itest]\n",
    "        clf = model.fit(train,ytrain)\n",
    "        ypred = clf.predict_proba(X2)\n",
    "        return ypred\n",
    "        "
   ]
  },
  {
   "cell_type": "code",
   "execution_count": 8,
   "metadata": {
    "collapsed": false
   },
   "outputs": [],
   "source": [
    "from sklearn.calibration import CalibratedClassifierCV\n",
    "from sklearn.naive_bayes import MultinomialNB\n",
    "\n",
    "class CalibModel(object):\n",
    "    def __init__(self):\n",
    "        clf = MultinomialNB()\n",
    "        self.clf = CalibratedClassifierCV(clf, cv=2, method='sigmoid')\n",
    "    \n",
    "    def fit(self, X, y):\n",
    "        self.clf.fit(X,y)\n",
    "        return self\n",
    "    \n",
    "    def predict(self, X):\n",
    "        return self.clf.predict(X)\n",
    "    \n",
    "    def predict_proba(self, X):\n",
    "        return self.clf.predict_proba(X)"
   ]
  },
  {
   "cell_type": "code",
   "execution_count": 9,
   "metadata": {
    "collapsed": false
   },
   "outputs": [
    {
     "name": "stdout",
     "output_type": "stream",
     "text": [
      "(14929, 12)\n",
      "2.40430254546\n",
      "(14929, 12)\n",
      "2.40689362128\n",
      "(14929, 12)\n",
      "2.3995671297\n",
      "(14929, 12)\n",
      "2.40416462513\n",
      "(14929, 12)\n",
      "2.4056362231\n"
     ]
    }
   ],
   "source": [
    "validateModel(vect_matrix, phone_brand_master['group'], CalibModel())"
   ]
  },
  {
   "cell_type": "code",
   "execution_count": 10,
   "metadata": {
    "collapsed": false
   },
   "outputs": [],
   "source": [
    "targetencoder = LabelEncoder().fit(phone_brand_master.group)\n",
    "y = targetencoder.transform(phone_brand_master.group)\n",
    "pred = pd.DataFrame(getModelOutput(vect_matrix, phone_brand_master['group'], test_vect_matrix, CalibModel()), index = phone_brand_master_test.device_id, columns=targetencoder.classes_)\n",
    "pred.to_csv('submit_1.csv',index=True)"
   ]
  },
  {
   "cell_type": "code",
   "execution_count": null,
   "metadata": {
    "collapsed": true
   },
   "outputs": [],
   "source": []
  }
 ],
 "metadata": {
  "anaconda-cloud": {},
  "kernelspec": {
   "display_name": "Python [Root]",
   "language": "python",
   "name": "Python [Root]"
  },
  "language_info": {
   "codemirror_mode": {
    "name": "ipython",
    "version": 3
   },
   "file_extension": ".py",
   "mimetype": "text/x-python",
   "name": "python",
   "nbconvert_exporter": "python",
   "pygments_lexer": "ipython3",
   "version": "3.5.2"
  }
 },
 "nbformat": 4,
 "nbformat_minor": 0
}
