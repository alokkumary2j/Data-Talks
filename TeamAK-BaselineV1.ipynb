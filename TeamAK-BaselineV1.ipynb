{
 "cells": [
  {
   "cell_type": "code",
   "execution_count": 1,
   "metadata": {
    "collapsed": true
   },
   "outputs": [],
   "source": [
    "import pandas as pd\n",
    "import numpy as np\n",
    "%matplotlib inline\n",
    "import seaborn as sns\n",
    "import matplotlib.pyplot as plt\n",
    "import os\n",
    "from sklearn.preprocessing import LabelEncoder\n",
    "from scipy.sparse import csr_matrix, hstack\n",
    "from sklearn.linear_model import LogisticRegression\n",
    "from sklearn.cross_validation import StratifiedKFold\n",
    "from sklearn.metrics import log_loss"
   ]
  },
  {
   "cell_type": "code",
   "execution_count": 2,
   "metadata": {
    "collapsed": true
   },
   "outputs": [],
   "source": [
    "datadir = '..'\n",
    "gatrain = pd.read_csv(os.path.join(datadir,'gender_age_train.csv'),\n",
    "                      index_col='device_id')\n",
    "gatest = pd.read_csv(os.path.join(datadir,'gender_age_test.csv'),\n",
    "                     index_col = 'device_id')\n",
    "phone = pd.read_csv(os.path.join(datadir,'phone_brand_device_model.csv'))\n",
    "# Get rid of duplicate device ids in phone\n",
    "phone = phone.drop_duplicates('device_id',keep='first').set_index('device_id')\n",
    "events = pd.read_csv(os.path.join(datadir,'events_subset.csv'),\n",
    "                     parse_dates=['timestamp'], index_col='event_id')\n",
    "appevents = pd.read_csv(os.path.join(datadir,'app_events_subset.csv'), \n",
    "                        usecols=['event_id','app_id','is_active'],\n",
    "                        dtype={'is_active':bool})\n",
    "applabels = pd.read_csv(os.path.join(datadir,'app_labels_subset.csv'))"
   ]
  },
  {
   "cell_type": "code",
   "execution_count": 3,
   "metadata": {
    "collapsed": true
   },
   "outputs": [],
   "source": [
    "gatrain['trainrow'] = np.arange(gatrain.shape[0])\n",
    "gatest['testrow'] = np.arange(gatest.shape[0])"
   ]
  },
  {
   "cell_type": "code",
   "execution_count": 4,
   "metadata": {
    "collapsed": false
   },
   "outputs": [
    {
     "name": "stdout",
     "output_type": "stream",
     "text": [
      "Brand features: train shape (74645, 131), test shape (112071, 131)\n"
     ]
    }
   ],
   "source": [
    "brandencoder = LabelEncoder().fit(phone.phone_brand)\n",
    "phone['brand'] = brandencoder.transform(phone['phone_brand'])\n",
    "gatrain['brand'] = phone['brand']\n",
    "gatest['brand'] = phone['brand']\n",
    "Xtr_brand = csr_matrix((np.ones(gatrain.shape[0]), \n",
    "                       (gatrain.trainrow, gatrain.brand)))\n",
    "Xte_brand = csr_matrix((np.ones(gatest.shape[0]), \n",
    "                       (gatest.testrow, gatest.brand)))\n",
    "print('Brand features: train shape {}, test shape {}'.format(Xtr_brand.shape, Xte_brand.shape))"
   ]
  },
  {
   "cell_type": "code",
   "execution_count": 25,
   "metadata": {
    "collapsed": false
   },
   "outputs": [
    {
     "name": "stdout",
     "output_type": "stream",
     "text": [
      "130 1666\n"
     ]
    },
    {
     "data": {
      "text/plain": [
       "<bound method NDFrame.head of                      phone_brand     device_model  brand  model\n",
       "device_id                                                      \n",
       "-8890648629457979026          小米               红米     51    858\n",
       " 1277779817574759137          小米             MI 2     51    843\n",
       " 5137427614288105724          三星        Galaxy S4     15    371\n",
       " 3669464369358936369       SUGAR             时尚手机      9    166\n",
       "-5019277647504317457          三星    Galaxy Note 2     15    347\n",
       " 3238009352149731868          华为             Mate     31    671\n",
       "-3883532755183027260          小米            MI 2S     51    846\n",
       "-2972199645857147708          华为            G610S     31    648\n",
       "-5827952925479472594          小米      MI One Plus     51    852\n",
       "-8262508968076336275        vivo              S7I     13    214\n",
       " 5840378295166286440          三星        Galaxy S3     15    368\n",
       "-5776341595519925628          小米            MI 2A     51    844\n",
       " 3437705102632680210          三星        Galaxy S3     15    368\n",
       "-3568334676360016285          三星        Galaxy S3     15    368\n",
       " 556978549708484782           小米             MI 2     51    843\n",
       " 5694497738268412307          小米             MI 3     51    847\n",
       " 6327116114284382479          华为        G520-0000     31    639\n",
       " 773248989809697210         vivo            X5Pro     13    232\n",
       "-686020914357018824           小米            MI 2S     51    846\n",
       " 6936613487637228956          魅族              MX2    128   1651\n",
       "-3875043166283300758          三星    Galaxy Note 2     15    347\n",
       "-6964140211214884922          小米            MI 2S     51    846\n",
       "-30236203766311351            小米            MI 2S     51    846\n",
       " 4887985552773989409        vivo            Xplay     13    241\n",
       " 7206202610070842107          三星    Galaxy Note 2     15    347\n",
       "-39620037751344714            小米            MI 2S     51    846\n",
       " 7223189369472462826          酷派             7270    117   1458\n",
       "-3998002640294516352          天语          Touch 3     44    812\n",
       " 2527845705328727233        OPPO            R2017      7    124\n",
       "-3157952721100703520          三星    Galaxy Note 2     15    347\n",
       "...                          ...              ...    ...    ...\n",
       " 42372237331287236          OPPO              R7s      7    130\n",
       " 5227968728585496675        OPPO            R813T      7    137\n",
       " 7793779831192048252        OPPO              R1S      7    122\n",
       "-744475600656645305           三星   Galaxy S7 Edge     15    381\n",
       " 3608110452636220010         努比亚           My 布拉格     30    596\n",
       "-8618225365386360981          LG              L22      3     77\n",
       " 2275764314427946733          华为           Mate 8     31    675\n",
       "-2334418817028672523        OPPO              A53      7    111\n",
       "-4449937638303316446          华为         荣耀6 plus     31    737\n",
       " 1565799471880375963          金立            GN151    120   1584\n",
       " 7345944586031224659          华为        Ascend P8     31    622\n",
       "-8541422542047946093        OPPO           Find 5      7    114\n",
       "-4980799589632292473          酷派            5263S    117   1424\n",
       "-4982005935723339332          乐视          超级手机Max     21    560\n",
       "-2200024706981051998          小米           红米note     51    865\n",
       " 4088225607463878385          三星    Galaxy Note 3     15    348\n",
       " 4533938230389516114          联想           黄金斗士A8    101   1317\n",
       " 2991768363764912164          三星  Galaxy S6 Edge+     15    379\n",
       "-8903406387941280700        OPPO               R9      7    153\n",
       "-6424608528529231693          小米          红米Note2     51    863\n",
       "-2998819981424937912          三星        Galaxy A8     15    301\n",
       " 2397799423340611378          三星        Galaxy S5     15    375\n",
       " 2639235301715597247        OPPO              A33      7    108\n",
       " 3884484562161888663        OPPO             1100      7     98\n",
       "-6564340457392363163          中兴           Axon天机     18    455\n",
       " 3210973037848940984          小米            MI 2S     51    846\n",
       " 7979541072208733273          小米             MI 4     51    848\n",
       "-187404680852357705           小米              红米2     51    860\n",
       "-2718274279595622821          小米             MI 3     51    847\n",
       " 3098391762071677791        vivo               X1     13    220\n",
       "\n",
       "[186716 rows x 4 columns]>"
      ]
     },
     "execution_count": 25,
     "metadata": {},
     "output_type": "execute_result"
    }
   ],
   "source": [
    "print(np.max(phone.brand),np.max(phone.model))\n",
    "phone.head"
   ]
  },
  {
   "cell_type": "code",
   "execution_count": 5,
   "metadata": {
    "collapsed": false
   },
   "outputs": [
    {
     "name": "stdout",
     "output_type": "stream",
     "text": [
      "Model features: train shape (74645, 1667), test shape (112071, 1667)\n"
     ]
    }
   ],
   "source": [
    "m = phone.phone_brand.str.cat(phone.device_model)\n",
    "modelencoder = LabelEncoder().fit(m)\n",
    "phone['model'] = modelencoder.transform(m)\n",
    "gatrain['model'] = phone['model']\n",
    "gatest['model'] = phone['model']\n",
    "Xtr_model = csr_matrix((np.ones(gatrain.shape[0]), \n",
    "                       (gatrain.trainrow, gatrain.model)))\n",
    "Xte_model = csr_matrix((np.ones(gatest.shape[0]), \n",
    "                       (gatest.testrow, gatest.model)))\n",
    "print('Model features: train shape {}, test shape {}'.format(Xtr_model.shape, Xte_model.shape))"
   ]
  },
  {
   "cell_type": "code",
   "execution_count": 6,
   "metadata": {
    "collapsed": false
   },
   "outputs": [
    {
     "data": {
      "text/html": [
       "<div>\n",
       "<table border=\"1\" class=\"dataframe\">\n",
       "  <thead>\n",
       "    <tr style=\"text-align: right;\">\n",
       "      <th></th>\n",
       "      <th>device_id</th>\n",
       "      <th>app</th>\n",
       "      <th>size</th>\n",
       "      <th>trainrow</th>\n",
       "      <th>testrow</th>\n",
       "    </tr>\n",
       "  </thead>\n",
       "  <tbody>\n",
       "    <tr>\n",
       "      <th>0</th>\n",
       "      <td>-9220329415676028483</td>\n",
       "      <td>61</td>\n",
       "      <td>1</td>\n",
       "      <td>NaN</td>\n",
       "      <td>83094</td>\n",
       "    </tr>\n",
       "    <tr>\n",
       "      <th>1</th>\n",
       "      <td>-9220329415676028483</td>\n",
       "      <td>166</td>\n",
       "      <td>1</td>\n",
       "      <td>NaN</td>\n",
       "      <td>83094</td>\n",
       "    </tr>\n",
       "    <tr>\n",
       "      <th>2</th>\n",
       "      <td>-9220329415676028483</td>\n",
       "      <td>183</td>\n",
       "      <td>1</td>\n",
       "      <td>NaN</td>\n",
       "      <td>83094</td>\n",
       "    </tr>\n",
       "    <tr>\n",
       "      <th>3</th>\n",
       "      <td>-9220329415676028483</td>\n",
       "      <td>476</td>\n",
       "      <td>1</td>\n",
       "      <td>NaN</td>\n",
       "      <td>83094</td>\n",
       "    </tr>\n",
       "    <tr>\n",
       "      <th>4</th>\n",
       "      <td>-9220329415676028483</td>\n",
       "      <td>615</td>\n",
       "      <td>1</td>\n",
       "      <td>NaN</td>\n",
       "      <td>83094</td>\n",
       "    </tr>\n",
       "  </tbody>\n",
       "</table>\n",
       "</div>"
      ],
      "text/plain": [
       "             device_id  app  size  trainrow  testrow\n",
       "0 -9220329415676028483   61     1       NaN    83094\n",
       "1 -9220329415676028483  166     1       NaN    83094\n",
       "2 -9220329415676028483  183     1       NaN    83094\n",
       "3 -9220329415676028483  476     1       NaN    83094\n",
       "4 -9220329415676028483  615     1       NaN    83094"
      ]
     },
     "execution_count": 6,
     "metadata": {},
     "output_type": "execute_result"
    }
   ],
   "source": [
    "appencoder = LabelEncoder().fit(appevents.app_id)\n",
    "appevents['app'] = appencoder.transform(appevents.app_id)\n",
    "napps = len(appencoder.classes_)\n",
    "deviceapps = (appevents.merge(events[['device_id']], how='left',left_on='event_id',right_index=True)\n",
    "                       .groupby(['device_id','app'])['app'].agg(['size'])\n",
    "                       .merge(gatrain[['trainrow']], how='left', left_index=True, right_index=True)\n",
    "                       .merge(gatest[['testrow']], how='left', left_index=True, right_index=True)\n",
    "                       .reset_index())\n",
    "deviceapps.head()"
   ]
  },
  {
   "cell_type": "code",
   "execution_count": 7,
   "metadata": {
    "collapsed": false
   },
   "outputs": [
    {
     "name": "stdout",
     "output_type": "stream",
     "text": [
      "Apps data: train shape (74645, 5504), test shape (112071, 5504)\n"
     ]
    }
   ],
   "source": [
    "d = deviceapps.dropna(subset=['trainrow'])\n",
    "Xtr_app = csr_matrix((np.ones(d.shape[0]), (d.trainrow, d.app)), \n",
    "                      shape=(gatrain.shape[0],napps))\n",
    "d = deviceapps.dropna(subset=['testrow'])\n",
    "Xte_app = csr_matrix((np.ones(d.shape[0]), (d.testrow, d.app)), \n",
    "                      shape=(gatest.shape[0],napps))\n",
    "print('Apps data: train shape {}, test shape {}'.format(Xtr_app.shape, Xte_app.shape))"
   ]
  },
  {
   "cell_type": "code",
   "execution_count": 8,
   "metadata": {
    "collapsed": true
   },
   "outputs": [],
   "source": [
    "applabels = applabels.loc[applabels.app_id.isin(appevents.app_id.unique())]\n",
    "applabels['app'] = appencoder.transform(applabels.app_id)\n",
    "labelencoder = LabelEncoder().fit(applabels.label_id)\n",
    "applabels['label'] = labelencoder.transform(applabels.label_id)\n",
    "nlabels = len(labelencoder.classes_)"
   ]
  },
  {
   "cell_type": "code",
   "execution_count": 9,
   "metadata": {
    "collapsed": false
   },
   "outputs": [
    {
     "data": {
      "text/html": [
       "<div>\n",
       "<table border=\"1\" class=\"dataframe\">\n",
       "  <thead>\n",
       "    <tr style=\"text-align: right;\">\n",
       "      <th></th>\n",
       "      <th>device_id</th>\n",
       "      <th>label</th>\n",
       "      <th>size</th>\n",
       "      <th>trainrow</th>\n",
       "      <th>testrow</th>\n",
       "    </tr>\n",
       "  </thead>\n",
       "  <tbody>\n",
       "    <tr>\n",
       "      <th>0</th>\n",
       "      <td>-9220329415676028483</td>\n",
       "      <td>0</td>\n",
       "      <td>1</td>\n",
       "      <td>NaN</td>\n",
       "      <td>83094</td>\n",
       "    </tr>\n",
       "    <tr>\n",
       "      <th>1</th>\n",
       "      <td>-9220329415676028483</td>\n",
       "      <td>12</td>\n",
       "      <td>8</td>\n",
       "      <td>NaN</td>\n",
       "      <td>83094</td>\n",
       "    </tr>\n",
       "    <tr>\n",
       "      <th>2</th>\n",
       "      <td>-9220329415676028483</td>\n",
       "      <td>13</td>\n",
       "      <td>31</td>\n",
       "      <td>NaN</td>\n",
       "      <td>83094</td>\n",
       "    </tr>\n",
       "    <tr>\n",
       "      <th>3</th>\n",
       "      <td>-9220329415676028483</td>\n",
       "      <td>20</td>\n",
       "      <td>3</td>\n",
       "      <td>NaN</td>\n",
       "      <td>83094</td>\n",
       "    </tr>\n",
       "    <tr>\n",
       "      <th>4</th>\n",
       "      <td>-9220329415676028483</td>\n",
       "      <td>22</td>\n",
       "      <td>3</td>\n",
       "      <td>NaN</td>\n",
       "      <td>83094</td>\n",
       "    </tr>\n",
       "  </tbody>\n",
       "</table>\n",
       "</div>"
      ],
      "text/plain": [
       "             device_id  label  size  trainrow  testrow\n",
       "0 -9220329415676028483      0     1       NaN    83094\n",
       "1 -9220329415676028483     12     8       NaN    83094\n",
       "2 -9220329415676028483     13    31       NaN    83094\n",
       "3 -9220329415676028483     20     3       NaN    83094\n",
       "4 -9220329415676028483     22     3       NaN    83094"
      ]
     },
     "execution_count": 9,
     "metadata": {},
     "output_type": "execute_result"
    }
   ],
   "source": [
    "devicelabels = (deviceapps[['device_id','app']]\n",
    "                .merge(applabels[['app','label']])\n",
    "                .groupby(['device_id','label'])['app'].agg(['size'])\n",
    "                .merge(gatrain[['trainrow']], how='left', left_index=True, right_index=True)\n",
    "                .merge(gatest[['testrow']], how='left', left_index=True, right_index=True)\n",
    "                .reset_index())\n",
    "devicelabels.head()"
   ]
  },
  {
   "cell_type": "code",
   "execution_count": 10,
   "metadata": {
    "collapsed": false
   },
   "outputs": [
    {
     "name": "stdout",
     "output_type": "stream",
     "text": [
      "Labels data: train shape (74645, 30), test shape (112071, 30)\n"
     ]
    }
   ],
   "source": [
    "d = devicelabels.dropna(subset=['trainrow'])\n",
    "Xtr_label = csr_matrix((np.ones(d.shape[0]), (d.trainrow, d.label)), \n",
    "                      shape=(gatrain.shape[0],nlabels))\n",
    "d = devicelabels.dropna(subset=['testrow'])\n",
    "Xte_label = csr_matrix((np.ones(d.shape[0]), (d.testrow, d.label)), \n",
    "                      shape=(gatest.shape[0],nlabels))\n",
    "print('Labels data: train shape {}, test shape {}'.format(Xtr_label.shape, Xte_label.shape))"
   ]
  },
  {
   "cell_type": "code",
   "execution_count": 11,
   "metadata": {
    "collapsed": false
   },
   "outputs": [
    {
     "name": "stdout",
     "output_type": "stream",
     "text": [
      "All features: train shape (74645, 7332), test shape (112071, 7332)\n"
     ]
    }
   ],
   "source": [
    "Xtrain = hstack((Xtr_brand, Xtr_model, Xtr_app, Xtr_label), format='csr')\n",
    "Xtest =  hstack((Xte_brand, Xte_model, Xte_app, Xte_label), format='csr')\n",
    "print('All features: train shape {}, test shape {}'.format(Xtrain.shape, Xtest.shape))"
   ]
  },
  {
   "cell_type": "code",
   "execution_count": 12,
   "metadata": {
    "collapsed": true
   },
   "outputs": [],
   "source": [
    "targetencoder = LabelEncoder().fit(gatrain.group)\n",
    "y = targetencoder.transform(gatrain.group)\n",
    "nclasses = len(targetencoder.classes_)"
   ]
  },
  {
   "cell_type": "code",
   "execution_count": 13,
   "metadata": {
    "collapsed": true
   },
   "outputs": [],
   "source": [
    "def score(clf, random_state = 0):\n",
    "    kf = StratifiedKFold(y, n_folds=5, shuffle=True, random_state=random_state)\n",
    "    pred = np.zeros((y.shape[0],nclasses))\n",
    "    for itrain, itest in kf:\n",
    "        Xtr, Xte = Xtrain[itrain, :], Xtrain[itest, :]\n",
    "        ytr, yte = y[itrain], y[itest]\n",
    "        clf.fit(Xtr, ytr)\n",
    "        pred[itest,:] = clf.predict_proba(Xte)\n",
    "        # Downsize to one fold only for kernels\n",
    "        return log_loss(yte, pred[itest, :])\n",
    "        print(\"{:.5f}\".format(log_loss(yte, pred[itest,:])), end=' ')\n",
    "    print('')\n",
    "    return log_loss(y, pred)"
   ]
  },
  {
   "cell_type": "code",
   "execution_count": 14,
   "metadata": {
    "collapsed": false
   },
   "outputs": [
    {
     "data": {
      "image/png": "[encoded data removed]",
      "text/plain": [
       "<matplotlib.figure.Figure at 0xaa34f1cc>"
      ]
     },
     "metadata": {},
     "output_type": "display_data"
    }
   ],
   "source": [
    "Cs = np.logspace(-3,0,4)\n",
    "res = []\n",
    "for C in Cs:\n",
    "    res.append(score(LogisticRegression(C = C)))\n",
    "plt.semilogx(Cs, res,'-o');"
   ]
  },
  {
   "cell_type": "code",
   "execution_count": 15,
   "metadata": {
    "collapsed": false
   },
   "outputs": [
    {
     "data": {
      "text/plain": [
       "2.3960927513944168"
      ]
     },
     "execution_count": 15,
     "metadata": {},
     "output_type": "execute_result"
    }
   ],
   "source": [
    "score(LogisticRegression(C=0.02))"
   ]
  },
  {
   "cell_type": "code",
   "execution_count": 16,
   "metadata": {
    "collapsed": false
   },
   "outputs": [
    {
     "data": {
      "text/html": [
       "<div>\n",
       "<table border=\"1\" class=\"dataframe\">\n",
       "  <thead>\n",
       "    <tr style=\"text-align: right;\">\n",
       "      <th></th>\n",
       "      <th>F23-</th>\n",
       "      <th>F24-26</th>\n",
       "      <th>F27-28</th>\n",
       "      <th>F29-32</th>\n",
       "      <th>F33-42</th>\n",
       "      <th>F43+</th>\n",
       "      <th>M22-</th>\n",
       "      <th>M23-26</th>\n",
       "      <th>M27-28</th>\n",
       "      <th>M29-31</th>\n",
       "      <th>M32-38</th>\n",
       "      <th>M39+</th>\n",
       "    </tr>\n",
       "    <tr>\n",
       "      <th>device_id</th>\n",
       "      <th></th>\n",
       "      <th></th>\n",
       "      <th></th>\n",
       "      <th></th>\n",
       "      <th></th>\n",
       "      <th></th>\n",
       "      <th></th>\n",
       "      <th></th>\n",
       "      <th></th>\n",
       "      <th></th>\n",
       "      <th></th>\n",
       "      <th></th>\n",
       "    </tr>\n",
       "  </thead>\n",
       "  <tbody>\n",
       "    <tr>\n",
       "      <th>1002079943728939269</th>\n",
       "      <td>0.048425</td>\n",
       "      <td>0.054211</td>\n",
       "      <td>0.048074</td>\n",
       "      <td>0.062302</td>\n",
       "      <td>0.062072</td>\n",
       "      <td>0.050612</td>\n",
       "      <td>0.110474</td>\n",
       "      <td>0.154368</td>\n",
       "      <td>0.086057</td>\n",
       "      <td>0.101091</td>\n",
       "      <td>0.125335</td>\n",
       "      <td>0.096980</td>\n",
       "    </tr>\n",
       "    <tr>\n",
       "      <th>-1547860181818787117</th>\n",
       "      <td>0.049154</td>\n",
       "      <td>0.050907</td>\n",
       "      <td>0.042537</td>\n",
       "      <td>0.049722</td>\n",
       "      <td>0.060525</td>\n",
       "      <td>0.055544</td>\n",
       "      <td>0.100910</td>\n",
       "      <td>0.150901</td>\n",
       "      <td>0.079551</td>\n",
       "      <td>0.104124</td>\n",
       "      <td>0.131345</td>\n",
       "      <td>0.124780</td>\n",
       "    </tr>\n",
       "    <tr>\n",
       "      <th>7374582448058474277</th>\n",
       "      <td>0.050983</td>\n",
       "      <td>0.044571</td>\n",
       "      <td>0.034040</td>\n",
       "      <td>0.057697</td>\n",
       "      <td>0.085255</td>\n",
       "      <td>0.060924</td>\n",
       "      <td>0.080322</td>\n",
       "      <td>0.115715</td>\n",
       "      <td>0.070647</td>\n",
       "      <td>0.106860</td>\n",
       "      <td>0.145422</td>\n",
       "      <td>0.147565</td>\n",
       "    </tr>\n",
       "    <tr>\n",
       "      <th>-6220210354783429585</th>\n",
       "      <td>0.045871</td>\n",
       "      <td>0.050323</td>\n",
       "      <td>0.030296</td>\n",
       "      <td>0.058017</td>\n",
       "      <td>0.073379</td>\n",
       "      <td>0.056301</td>\n",
       "      <td>0.079781</td>\n",
       "      <td>0.146809</td>\n",
       "      <td>0.078471</td>\n",
       "      <td>0.115130</td>\n",
       "      <td>0.148457</td>\n",
       "      <td>0.117164</td>\n",
       "    </tr>\n",
       "    <tr>\n",
       "      <th>-5893464122623104785</th>\n",
       "      <td>0.045344</td>\n",
       "      <td>0.061370</td>\n",
       "      <td>0.042611</td>\n",
       "      <td>0.062047</td>\n",
       "      <td>0.057447</td>\n",
       "      <td>0.046417</td>\n",
       "      <td>0.083700</td>\n",
       "      <td>0.157953</td>\n",
       "      <td>0.094920</td>\n",
       "      <td>0.105024</td>\n",
       "      <td>0.142804</td>\n",
       "      <td>0.100364</td>\n",
       "    </tr>\n",
       "  </tbody>\n",
       "</table>\n",
       "</div>"
      ],
      "text/plain": [
       "                          F23-    F24-26    F27-28    F29-32    F33-42  \\\n",
       "device_id                                                                \n",
       " 1002079943728939269  0.048425  0.054211  0.048074  0.062302  0.062072   \n",
       "-1547860181818787117  0.049154  0.050907  0.042537  0.049722  0.060525   \n",
       " 7374582448058474277  0.050983  0.044571  0.034040  0.057697  0.085255   \n",
       "-6220210354783429585  0.045871  0.050323  0.030296  0.058017  0.073379   \n",
       "-5893464122623104785  0.045344  0.061370  0.042611  0.062047  0.057447   \n",
       "\n",
       "                          F43+      M22-    M23-26    M27-28    M29-31  \\\n",
       "device_id                                                                \n",
       " 1002079943728939269  0.050612  0.110474  0.154368  0.086057  0.101091   \n",
       "-1547860181818787117  0.055544  0.100910  0.150901  0.079551  0.104124   \n",
       " 7374582448058474277  0.060924  0.080322  0.115715  0.070647  0.106860   \n",
       "-6220210354783429585  0.056301  0.079781  0.146809  0.078471  0.115130   \n",
       "-5893464122623104785  0.046417  0.083700  0.157953  0.094920  0.105024   \n",
       "\n",
       "                        M32-38      M39+  \n",
       "device_id                                 \n",
       " 1002079943728939269  0.125335  0.096980  \n",
       "-1547860181818787117  0.131345  0.124780  \n",
       " 7374582448058474277  0.145422  0.147565  \n",
       "-6220210354783429585  0.148457  0.117164  \n",
       "-5893464122623104785  0.142804  0.100364  "
      ]
     },
     "execution_count": 16,
     "metadata": {},
     "output_type": "execute_result"
    }
   ],
   "source": [
    "clf = LogisticRegression(C=0.02, multi_class='multinomial',solver='lbfgs')\n",
    "clf.fit(Xtrain, y)\n",
    "pred = pd.DataFrame(clf.predict_proba(Xtest), index = gatest.index, columns=targetencoder.classes_)\n",
    "pred.head()"
   ]
  },
  {
   "cell_type": "code",
   "execution_count": 17,
   "metadata": {
    "collapsed": true
   },
   "outputs": [],
   "source": [
    "pred.to_csv('logreg_subm.csv')"
   ]
  },
  {
   "cell_type": "code",
   "execution_count": null,
   "metadata": {
    "collapsed": true
   },
   "outputs": [],
   "source": []
  }
 ],
 "metadata": {
  "kernelspec": {
   "display_name": "Python 3",
   "language": "python",
   "name": "python3"
  },
  "language_info": {
   "codemirror_mode": {
    "name": "ipython",
    "version": 3
   },
   "file_extension": ".py",
   "mimetype": "text/x-python",
   "name": "python",
   "nbconvert_exporter": "python",
   "pygments_lexer": "ipython3",
   "version": "3.5.1"
  }
 },
 "nbformat": 4,
 "nbformat_minor": 0
}
