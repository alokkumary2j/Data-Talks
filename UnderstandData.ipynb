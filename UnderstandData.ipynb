{
 "cells": [
  {
   "cell_type": "code",
   "execution_count": 3,
   "metadata": {
    "collapsed": false
   },
   "outputs": [],
   "source": [
    "import numpy as np\n",
    "import pandas as pd\n",
    "import matplotlib.pyplot as plt\n",
    "plt.style.use('ggplot')"
   ]
  },
  {
   "cell_type": "code",
   "execution_count": 4,
   "metadata": {
    "collapsed": false
   },
   "outputs": [],
   "source": [
    "trainFile=pd.read_csv(\"gender_age_train.csv\")\n",
    "testFile=pd.read_csv(\"gender_age_test.csv\")"
   ]
  },
  {
   "cell_type": "code",
   "execution_count": 5,
   "metadata": {
    "collapsed": false
   },
   "outputs": [
    {
     "data": {
      "text/html": [
       "<div>\n",
       "<table border=\"1\" class=\"dataframe\">\n",
       "  <thead>\n",
       "    <tr style=\"text-align: right;\">\n",
       "      <th></th>\n",
       "      <th>device_id</th>\n",
       "      <th>gender</th>\n",
       "      <th>age</th>\n",
       "      <th>group</th>\n",
       "    </tr>\n",
       "  </thead>\n",
       "  <tbody>\n",
       "    <tr>\n",
       "      <th>0</th>\n",
       "      <td>-8076087639492063270</td>\n",
       "      <td>M</td>\n",
       "      <td>35</td>\n",
       "      <td>M32-38</td>\n",
       "    </tr>\n",
       "  </tbody>\n",
       "</table>\n",
       "</div>"
      ],
      "text/plain": [
       "             device_id gender  age   group\n",
       "0 -8076087639492063270      M   35  M32-38"
      ]
     },
     "execution_count": 5,
     "metadata": {},
     "output_type": "execute_result"
    }
   ],
   "source": [
    "#print(trainFile.shape)#(74654,4)\n",
    "trainFile[0:1]"
   ]
  },
  {
   "cell_type": "code",
   "execution_count": 6,
   "metadata": {
    "collapsed": false
   },
   "outputs": [
    {
     "data": {
      "text/html": [
       "<div>\n",
       "<table border=\"1\" class=\"dataframe\">\n",
       "  <thead>\n",
       "    <tr style=\"text-align: right;\">\n",
       "      <th></th>\n",
       "      <th>device_id</th>\n",
       "    </tr>\n",
       "  </thead>\n",
       "  <tbody>\n",
       "    <tr>\n",
       "      <th>0</th>\n",
       "      <td>1002079943728939269</td>\n",
       "    </tr>\n",
       "  </tbody>\n",
       "</table>\n",
       "</div>"
      ],
      "text/plain": [
       "             device_id\n",
       "0  1002079943728939269"
      ]
     },
     "execution_count": 6,
     "metadata": {},
     "output_type": "execute_result"
    }
   ],
   "source": [
    "#print(testFile.shape)#(112071,1)\n",
    "testFile[0:1]"
   ]
  },
  {
   "cell_type": "code",
   "execution_count": 7,
   "metadata": {
    "collapsed": false
   },
   "outputs": [
    {
     "name": "stdout",
     "output_type": "stream",
     "text": [
      "[('M29-31', 7309), ('F43+', 4194), ('M27-28', 5445), ('M39+', 8581), ('F29-32', 4628), ('M32-38', 9476), ('F33-42', 5561), ('F24-26', 4190), ('F23-', 5050), ('M22-', 7488), ('F27-28', 3118), ('M23-26', 9605)]\n"
     ]
    }
   ],
   "source": [
    "#Understanding Target Value Characteristics(Regression w.r.t. Age, Classification w.r.t. Gender)\n",
    "trainGrpBy=trainFile.groupby(\"group\")\n",
    "trainGroups=trainGrpBy.groups\n",
    "trainGroupDict=[(key,len(trainGroups[key])) for key in trainGroups.keys()]\n",
    "print(trainGroupDict)\n",
    "#Female Groups are : F23-,F24-26,F27-28,F29-32,F33-42,F43+\n",
    "#Male Groups are : M22-,M23-26,M27-28,M29-31,M32-38,M39+"
   ]
  },
  {
   "cell_type": "code",
   "execution_count": 8,
   "metadata": {
    "collapsed": false
   },
   "outputs": [
    {
     "data": {
      "text/plain": [
       "74645"
      ]
     },
     "execution_count": 8,
     "metadata": {},
     "output_type": "execute_result"
    }
   ],
   "source": [
    "len(trainFile.groupby('device_id').groups.keys())#Number of unique device_ids: 74645 i.e. All device_id are unique"
   ]
  },
  {
   "cell_type": "code",
   "execution_count": 9,
   "metadata": {
    "collapsed": false
   },
   "outputs": [
    {
     "data": {
      "text/html": [
       "<div>\n",
       "<table border=\"1\" class=\"dataframe\">\n",
       "  <thead>\n",
       "    <tr style=\"text-align: right;\">\n",
       "      <th></th>\n",
       "      <th>device_id</th>\n",
       "      <th>age</th>\n",
       "    </tr>\n",
       "  </thead>\n",
       "  <tbody>\n",
       "    <tr>\n",
       "      <th>count</th>\n",
       "      <td>7.464500e+04</td>\n",
       "      <td>74645.000000</td>\n",
       "    </tr>\n",
       "    <tr>\n",
       "      <th>mean</th>\n",
       "      <td>-7.491354e+14</td>\n",
       "      <td>31.410342</td>\n",
       "    </tr>\n",
       "    <tr>\n",
       "      <th>std</th>\n",
       "      <td>5.327150e+18</td>\n",
       "      <td>9.868735</td>\n",
       "    </tr>\n",
       "    <tr>\n",
       "      <th>min</th>\n",
       "      <td>-9.223067e+18</td>\n",
       "      <td>1.000000</td>\n",
       "    </tr>\n",
       "    <tr>\n",
       "      <th>25%</th>\n",
       "      <td>-4.617367e+18</td>\n",
       "      <td>25.000000</td>\n",
       "    </tr>\n",
       "    <tr>\n",
       "      <th>50%</th>\n",
       "      <td>-1.841362e+16</td>\n",
       "      <td>29.000000</td>\n",
       "    </tr>\n",
       "    <tr>\n",
       "      <th>75%</th>\n",
       "      <td>4.636656e+18</td>\n",
       "      <td>36.000000</td>\n",
       "    </tr>\n",
       "    <tr>\n",
       "      <th>max</th>\n",
       "      <td>9.222849e+18</td>\n",
       "      <td>96.000000</td>\n",
       "    </tr>\n",
       "  </tbody>\n",
       "</table>\n",
       "</div>"
      ],
      "text/plain": [
       "          device_id           age\n",
       "count  7.464500e+04  74645.000000\n",
       "mean  -7.491354e+14     31.410342\n",
       "std    5.327150e+18      9.868735\n",
       "min   -9.223067e+18      1.000000\n",
       "25%   -4.617367e+18     25.000000\n",
       "50%   -1.841362e+16     29.000000\n",
       "75%    4.636656e+18     36.000000\n",
       "max    9.222849e+18     96.000000"
      ]
     },
     "execution_count": 9,
     "metadata": {},
     "output_type": "execute_result"
    }
   ],
   "source": [
    "trainFile.describe()#Interesting we have a Kid of Age 1 and grandpa having age 96 using Mobile Device :-)\n",
    "#But Most of the users are withing age group 25 to 36"
   ]
  },
  {
   "cell_type": "code",
   "execution_count": 10,
   "metadata": {
    "collapsed": false
   },
   "outputs": [
    {
     "name": "stdout",
     "output_type": "stream",
     "text": [
      "   event_id            device_id            timestamp  longitude  latitude\n",
      "0         1    29182687948017175  2016-05-01 00:55:25     121.38     31.24\n",
      "1         2 -6401643145415154744  2016-05-01 00:54:12     103.65     30.97\n"
     ]
    }
   ],
   "source": [
    "eventsData=pd.read_csv(\"events_subset.csv\")\n",
    "print(eventsData[0:2])\n",
    "#eventsData.describe()\n",
    "#event_id is PK here;device_id may get duplicated\n",
    "#longitude: -180 to 151 : Continuous\n",
    "#latitude: -37 to 53.64 : Continuous"
   ]
  },
  {
   "cell_type": "code",
   "execution_count": 11,
   "metadata": {
    "collapsed": false
   },
   "outputs": [
    {
     "data": {
      "text/html": [
       "<div>\n",
       "<table border=\"1\" class=\"dataframe\">\n",
       "  <thead>\n",
       "    <tr style=\"text-align: right;\">\n",
       "      <th></th>\n",
       "      <th>event_id</th>\n",
       "      <th>device_id</th>\n",
       "      <th>longitude</th>\n",
       "      <th>latitude</th>\n",
       "    </tr>\n",
       "  </thead>\n",
       "  <tbody>\n",
       "    <tr>\n",
       "      <th>event_id</th>\n",
       "      <td>1.000000</td>\n",
       "      <td>0.001050</td>\n",
       "      <td>-0.003879</td>\n",
       "      <td>-0.004633</td>\n",
       "    </tr>\n",
       "    <tr>\n",
       "      <th>device_id</th>\n",
       "      <td>0.001050</td>\n",
       "      <td>1.000000</td>\n",
       "      <td>-0.013765</td>\n",
       "      <td>-0.007659</td>\n",
       "    </tr>\n",
       "    <tr>\n",
       "      <th>longitude</th>\n",
       "      <td>-0.003879</td>\n",
       "      <td>-0.013765</td>\n",
       "      <td>1.000000</td>\n",
       "      <td>0.947287</td>\n",
       "    </tr>\n",
       "    <tr>\n",
       "      <th>latitude</th>\n",
       "      <td>-0.004633</td>\n",
       "      <td>-0.007659</td>\n",
       "      <td>0.947287</td>\n",
       "      <td>1.000000</td>\n",
       "    </tr>\n",
       "  </tbody>\n",
       "</table>\n",
       "</div>"
      ],
      "text/plain": [
       "           event_id  device_id  longitude  latitude\n",
       "event_id   1.000000   0.001050  -0.003879 -0.004633\n",
       "device_id  0.001050   1.000000  -0.013765 -0.007659\n",
       "longitude -0.003879  -0.013765   1.000000  0.947287\n",
       "latitude  -0.004633  -0.007659   0.947287  1.000000"
      ]
     },
     "execution_count": 11,
     "metadata": {},
     "output_type": "execute_result"
    }
   ],
   "source": [
    "#As expected => Very High Correlation between longitude and latitude : 0.947287\n",
    "eventsData.corr()"
   ]
  },
  {
   "cell_type": "code",
   "execution_count": 12,
   "metadata": {
    "collapsed": true
   },
   "outputs": [],
   "source": [
    "app_eventsData=pd.read_csv(\"app_events_subset.csv\")"
   ]
  },
  {
   "cell_type": "code",
   "execution_count": 13,
   "metadata": {
    "collapsed": false
   },
   "outputs": [
    {
     "data": {
      "text/html": [
       "<div>\n",
       "<table border=\"1\" class=\"dataframe\">\n",
       "  <thead>\n",
       "    <tr style=\"text-align: right;\">\n",
       "      <th></th>\n",
       "      <th>event_id</th>\n",
       "      <th>app_id</th>\n",
       "      <th>is_installed</th>\n",
       "      <th>is_active</th>\n",
       "    </tr>\n",
       "  </thead>\n",
       "  <tbody>\n",
       "    <tr>\n",
       "      <th>0</th>\n",
       "      <td>2</td>\n",
       "      <td>5927333115845830913</td>\n",
       "      <td>1</td>\n",
       "      <td>1</td>\n",
       "    </tr>\n",
       "  </tbody>\n",
       "</table>\n",
       "</div>"
      ],
      "text/plain": [
       "   event_id               app_id  is_installed  is_active\n",
       "0         2  5927333115845830913             1          1"
      ]
     },
     "execution_count": 13,
     "metadata": {},
     "output_type": "execute_result"
    }
   ],
   "source": [
    "app_eventsData[0:1]"
   ]
  },
  {
   "cell_type": "code",
   "execution_count": 14,
   "metadata": {
    "collapsed": false
   },
   "outputs": [
    {
     "name": "stdout",
     "output_type": "stream",
     "text": [
      "99999 5504 3553 99999 2 1\n"
     ]
    }
   ],
   "source": [
    "appDataGrpByObj=app_eventsData.groupby('app_id')\n",
    "eventsDataGrpByObj=app_eventsData.groupby('event_id')\n",
    "isActiveGrpByObj=app_eventsData.groupby('is_active')\n",
    "isInstalledGrpByObj=app_eventsData.groupby('is_installed')\n",
    "app_event_GrpByObj=app_eventsData.groupby(['app_id','event_id'])\n",
    "print(len(app_eventsData),len(appDataGrpByObj.groups),len(eventsDataGrpByObj.groups),\n",
    "      len(app_event_GrpByObj.groups),len(isActiveGrpByObj.groups),len(isInstalledGrpByObj.groups))\n",
    "#No Single PK for the Table app_events: (app_id,event_id) together makes the PK\n",
    "#2 Categorical Variables : is_active and is_installed\n",
    "#2 Continuous but Identity Columns : app_id and event_id"
   ]
  },
  {
   "cell_type": "code",
   "execution_count": 15,
   "metadata": {
    "collapsed": false
   },
   "outputs": [
    {
     "data": {
      "text/html": [
       "<div>\n",
       "<table border=\"1\" class=\"dataframe\">\n",
       "  <thead>\n",
       "    <tr style=\"text-align: right;\">\n",
       "      <th></th>\n",
       "      <th>app_id</th>\n",
       "      <th>label_id</th>\n",
       "    </tr>\n",
       "  </thead>\n",
       "  <tbody>\n",
       "    <tr>\n",
       "      <th>0</th>\n",
       "      <td>7324884708820027918</td>\n",
       "      <td>251</td>\n",
       "    </tr>\n",
       "  </tbody>\n",
       "</table>\n",
       "</div>"
      ],
      "text/plain": [
       "                app_id  label_id\n",
       "0  7324884708820027918       251"
      ]
     },
     "execution_count": 15,
     "metadata": {},
     "output_type": "execute_result"
    }
   ],
   "source": [
    "app_labelsData=pd.read_csv(\"app_labels_subset.csv\")\n",
    "app_labelsData[0:1]"
   ]
  },
  {
   "cell_type": "code",
   "execution_count": 16,
   "metadata": {
    "collapsed": false
   },
   "outputs": [
    {
     "name": "stdout",
     "output_type": "stream",
     "text": [
      "3502 31 4999\n"
     ]
    },
    {
     "data": {
      "text/html": [
       "<div>\n",
       "<table border=\"1\" class=\"dataframe\">\n",
       "  <thead>\n",
       "    <tr style=\"text-align: right;\">\n",
       "      <th></th>\n",
       "      <th>app_id</th>\n",
       "      <th>label_id</th>\n",
       "    </tr>\n",
       "  </thead>\n",
       "  <tbody>\n",
       "    <tr>\n",
       "      <th>count</th>\n",
       "      <td>4.999000e+03</td>\n",
       "      <td>4999.000000</td>\n",
       "    </tr>\n",
       "    <tr>\n",
       "      <th>mean</th>\n",
       "      <td>2.888705e+17</td>\n",
       "      <td>477.645929</td>\n",
       "    </tr>\n",
       "    <tr>\n",
       "      <th>std</th>\n",
       "      <td>5.277960e+18</td>\n",
       "      <td>127.849836</td>\n",
       "    </tr>\n",
       "    <tr>\n",
       "      <th>min</th>\n",
       "      <td>-9.216547e+18</td>\n",
       "      <td>251.000000</td>\n",
       "    </tr>\n",
       "    <tr>\n",
       "      <th>25%</th>\n",
       "      <td>-4.133423e+18</td>\n",
       "      <td>262.000000</td>\n",
       "    </tr>\n",
       "    <tr>\n",
       "      <th>50%</th>\n",
       "      <td>6.240908e+16</td>\n",
       "      <td>549.000000</td>\n",
       "    </tr>\n",
       "    <tr>\n",
       "      <th>75%</th>\n",
       "      <td>5.191946e+18</td>\n",
       "      <td>549.000000</td>\n",
       "    </tr>\n",
       "    <tr>\n",
       "      <th>max</th>\n",
       "      <td>9.220205e+18</td>\n",
       "      <td>691.000000</td>\n",
       "    </tr>\n",
       "  </tbody>\n",
       "</table>\n",
       "</div>"
      ],
      "text/plain": [
       "             app_id     label_id\n",
       "count  4.999000e+03  4999.000000\n",
       "mean   2.888705e+17   477.645929\n",
       "std    5.277960e+18   127.849836\n",
       "min   -9.216547e+18   251.000000\n",
       "25%   -4.133423e+18   262.000000\n",
       "50%    6.240908e+16   549.000000\n",
       "75%    5.191946e+18   549.000000\n",
       "max    9.220205e+18   691.000000"
      ]
     },
     "execution_count": 16,
     "metadata": {},
     "output_type": "execute_result"
    }
   ],
   "source": [
    "app_idGrpByObj=app_labelsData.groupby('app_id')\n",
    "label_idGrpByObj=app_labelsData.groupby('label_id')\n",
    "print(len(app_idGrpByObj.groups),len(label_idGrpByObj.groups),len(app_labelsData))\n",
    "#No PK for app_labels Table\n",
    "app_labelsData.describe()\n",
    "#label_id is between 251 to 691\n",
    "#app_id is between -9.21e18 to 9.22e18"
   ]
  },
  {
   "cell_type": "code",
   "execution_count": 17,
   "metadata": {
    "collapsed": false
   },
   "outputs": [
    {
     "data": {
      "text/html": [
       "<div>\n",
       "<table border=\"1\" class=\"dataframe\">\n",
       "  <thead>\n",
       "    <tr style=\"text-align: right;\">\n",
       "      <th></th>\n",
       "      <th>label_id</th>\n",
       "      <th>category</th>\n",
       "    </tr>\n",
       "  </thead>\n",
       "  <tbody>\n",
       "    <tr>\n",
       "      <th>0</th>\n",
       "      <td>1</td>\n",
       "      <td>NaN</td>\n",
       "    </tr>\n",
       "  </tbody>\n",
       "</table>\n",
       "</div>"
      ],
      "text/plain": [
       "   label_id category\n",
       "0         1      NaN"
      ]
     },
     "execution_count": 17,
     "metadata": {},
     "output_type": "execute_result"
    }
   ],
   "source": [
    "label_categoriesData=pd.read_csv(\"label_categories.csv\")\n",
    "label_categoriesData[0:1]"
   ]
  },
  {
   "cell_type": "code",
   "execution_count": 18,
   "metadata": {
    "collapsed": false,
    "scrolled": true
   },
   "outputs": [
    {
     "name": "stdout",
     "output_type": "stream",
     "text": [
      "835 930 930\n",
      "{'game-Parkour Racing': [14], 'paid2': [750], 'game-stress reliever': [7], 'Cycling Sport': [429], 'Internet Securities': [927], 'Consumer orientation': [273], 'joke': [135], 'Xian Xia': [894], '2G': [571], 'Luxury brand': [328], 'Makeup': [333], 'Index Fund': [665], 'Corporate': [595], 'Commodity Futures': [689], 'flat': [536], 'Europe, the United States and Macao (Travel)': [858], 'Lenovo Cooperation': [820], 'phone tools': [220], 'show': [161, 257], 'Feature Pack': [331], 'Women': [288], 'navigation': [165, 896], 'Game willingness to pay': [466], 'Consumer preferences': [271], \"Read the operator's\": [736], 'Simulators': [884], 'Buy': [248], 'video': [160], 'BM': [874], 'paid4': [752], 'Chinese Classical Mythology': [81], 'the little sun': [767], 'operator 2': [565], 'Airline Alliances': [836], 'Beach landing game': [54], 'hospital': [374], 'Animation': [731, 797], '3 kindom game': [76], 'Collection process': [340], 'education outside class': [116], 'Hong Kong, Macao and Taiwan (aviation)': [843], 'Sellers': [249], 'Canada': [324], 'Parenting': [253, 592], 'Snacks Snacks': [378], 'Stereo headphones': [402], 'Travel': [597], 'knight game': [77], 'TV series': [816], 'Laundry / Leather Care / change clothes': [418], 'futures': [238], 'kids toys': [404], 'game-Answer': [9], 'Singapore': [384], 'Buy class': [746], 'And the Church': [650], 'online shopping': [108], 'Rentals': [250], 'Equipment category': [534], 'Bank Credit Card': [928], 'AIRPORT': [369], 'coach transport': [176], 'Office Supplies': [321], 'quality': [491, 777], 'beauty': [521], 'Arts': [819], 'Chess categories': [728], 'game-Racing': [16], 'realistic style comic': [103], 'Outdoor sport': [297], 'Internet Banking': [920], 'Housing agency': [442], 'Low active (nearly 30 days played 1-2 games)': [487], 'travel': [844], 'physical education': [793], 'science': [137], 'Travel Information': [851], 'education for babies': [115], 'Greece': [396], 'Debit and credit': [244], 'Journey': [902], 'Supermarkets': [423], 'Finance': [232, 912], 'Swimming pool': [447], 'Higher income': [697], 'Public class': [795], 'game-Cutting things': [5], 'Hotel Type': [867], 'Direct Insurance': [236], 'Insurance': [618, 667, 669], 'Trendy / cool 1': [632], 'household products': [181], 'buffet': [391], 'Dress shoes': [287], 'Pregnant mother supplies': [347], 'Kitchen Appliances': [351], 'KTV': [256], 'DS_P2P net loan': [361], 'Word games': [893], 'Total Cost 1': [649], 'game-Motorcycle': [17], 'Insurance company': [607], 'Culture & Education': [370], 'Talk show': [821], 'The installation (3-7 games)': [483], 'chinese comic': [104], 'Kids': [307], 'Sweden': [302], 'IF (there are three consecutive days game behavior)': [480], 'Real Estate Trust': [685], 'B Shares': [653], 'Engineering Drawing': [219], 'Shootout Shooting (STG)': [722], 'Crowdfunding financing': [241], 'High installation (over 7 games)': [482], 'Japan': [294], 'Accounting': [202, 918], 'Spain': [343], 'outdoor equipment': [309], 'Housekeeping': [207], 'Empty nesters': [770], 'Higher risk': [702], 'Travel preferences': [853], 'Three Generations of children': [768], 'Location': [362], 'Accessories': [303], 'Clock': [199], 'Technology Information': [144], 'File Editor': [214], 'Game Installation': [469], 'education': [114, 806], 'Original': [798], 'Prepare baby': [758], 'game-Role -playing games': [28], 'Viewing preferences': [792], 'Chinese painting': [95], 'Finland': [417], 'Appliances': [179], 'Go places': [363], 'A shares': [652], 'car brand': [488], 'US and Europe magic comic': [102], 'game-Puzzle': [12], 'Third-party card management': [919], 'zombies game': [89], 'ARPG': [65, 717], 'billards': [60], 'Intellectual Property Trust': [687], 'Fast food meals': [336], 'Gyro': [560], 'Jewelry Watches': [283], 'Enthusiasm': [501, 784], 'dictionary': [132], 'Music phone': [541], 'Ping': [614], 'Non-standard accommodation': [870], 'game-Tactics': [30], 'Air Travel': [826], 'SLG (strategy)': [719], 'Water Coffee Bar': [356], 'Domestic travel': [848], 'Portugal': [375], 'Hardware Features': [558], 'violence comic': [101], 'City resident': [610], '5.0-4.6 inches': [551], 'round': [716], 'Passion 1': [640], 'children books': [128], 'Concert hall': [605], 'Make-up application': [265], 'Texas Poker': [45], 'Financial Futures': [690], 'Puzzle': [48], 'raising up game': [70], 'SCHOOL': [589], 'online shopping by group, like groupon': [110], 'Smart bracelet': [539], 'game-Horizontal version': [34], 'game-card': [31], 'Maternal and child supplies': [254], 'Personalized photo': [599], 'fashion brand': [285], 'Book hotel complex': [862], 'poker': [46], 'psychology': [136], 'Senki': [901], 'Traditional Insurance': [924], 'chess': [42], 'online shopping, price comparing': [112], 'Input Method': [224], 'reading for fetus': [127], 'Netherlands': [401], 'sports and gym': [185], 'Integrated tourism': [849], 'Ninja': [904], 'tourism product': [174], 'Financial Planning Services': [424], 'Japan and South Korea (Travel)': [857], 'P2P': [677, 872], 'P2P net loan': [915], 'Booking channels': [860], 'Nature 1': [637], 'Simple': [494, 783], 'Coffee water bar / teahouse': [411], 'other ball game': [61], 'Class animation community': [733], 'aviation': [827], 'Comics Reading Tools': [734], 'radio': [158], 'Collection shop': [399], 'Smart Shopping': [506, 780], 'unknown': [73, 105, 106, 107, 266, 267, 268, 269, 270, 277, 278, 279, 360, 572, 573, 574, 575, 576, 577, 623, 624, 625, 626, 627, 628, 873], '1 vitality': [643], 'Aeronautical Information Service': [835], 'Property Industry 2.0': [629], 'Coach reservations': [864], 'Training institutions': [530], 'Sports': [419, 724], 'China Mainland': [310], 'Exam training': [531], 'noble': [502, 772], 'H shares': [654], 'Swimming Supplies': [323], 'Scheduling': [211], 'Simple 1': [633], 'Low Risk': [705], 'Moderate profitability': [698], 'Travel advisory': [173], 'art and culture': [121], 'Home Decoration': [338], 'game-Art Style': [3], 'Outlaws of the Marsh game': [80], 'Contacts': [216], 'Vermicelli': [745], 'Appliance stores': [432], 'pictures photography': [190], 'Car decoration': [440], 'game-Competitive action': [29], 'game-Parkour': [15], 'Wedding photography': [452], 'paid5': [753], 'Medium risk': [703], 'Monetary Fund': [658], 'Auto 4S shop': [426], 'Month Center': [593], 'High mobility': [692], 'Beauty salons': [422], 'Business Office': [197], 'transportation hub': [368], 'Domestic services': [357], 'Brazil': [413], 'IM': [153], 'Maternal and child population': [757], 'work': [209], 'Tencent': [712], 'comics': [131], 'MOBA': [718], 'fingerprint': [609], 'Teahouse': [511], 'Thailand': [388], 'Other shares': [656], 'Total Cost': [510, 773], 'Decoration materials': [381], 'health': [183, 186, 794], 'Brand Country': [274], '4G': [569], 'tribe': [903], 'underwear': [299], 'Purpose of travel': [845], 'Integrated Air Travel Booking': [865], 'Car Owners': [203], 'marry': [520], 'Lower liquidity': [694], 'The internet': [567], 'operating system': [554], 'Commodity Funds': [663], 'operatior 1': [564], 'Furniture': [180, 397], 'game-Box': [21], 'Prepare pregnant pregnancy': [252], 'Tobacco row': [380], 'online malls': [109], 'Martial arts': [907], \"Parent-child's play\": [598], 'Classical 1': [647], 'Jin Yong': [899], 'pixel style comic': [100], 'Slim': [524], 'pawn shop': [581], 'SPA / Health Center': [416], 'Norway': [349], 'retail': [412], 'Parkour avoid class': [729], 'Beauty phone': [542], 'Property Trust': [686], 'pharmacy': [457], 'model': [612], 'Game Frequency': [468], 'vitality': [504, 785], 'Olympic': [800], 'Antique collection': [711], 'Low income': [700], 'Liability': [670], 'High-end business aviation': [832], 'Third party payment': [679], 'class managemetn': [125], 'Ultra-high frequency (more than seven consecutive days game behavior)': [478], 'Photographic prints': [428], 'Decoration': [178], 'game-Bobble': [25], 'Pursuit 1': [644], 'Journey to the West game': [79], 'App Store': [222], 'Resolution': [619], 'Lunch Dinner': [386], 'Taxi': [167], 'Integrated Living': [208], 'Skills Training': [604], 'branded watch': [284], '80s Japanese comic': [83], 'Weather': [198], 'lose weight': [184], 'Medical': [187, 519], 'game-Action Shooting': [33], 'Educational games': [888], 'email': [155], 'Integrated ticket reservation': [861], 'Health Products': [462], 'Audiobooks': [162], 'Leather Care': [513], 'literature': [735], 'puzzel': [74], 'Express Inn': [583], 'map': [164], 'Man playing favorites': [191], 'business strategy game': [66], 'QDII fund': [662], 'Bags': [311], 'Trust funds': [683], 'gaming strategy': [145], 'search': [223], 'World of Warcraft': [90], 'picture sharing': [150], 'Racing (RAC)': [720], 'Adventure Game': [885], 'Information': [138, 823], 'Western Dinner': [350], 'sports': [94], 'Board games and entertainment': [435], 'Musical instruments': [515], 'japanese comic and animation': [97], 'Beauty Nail': [264], 'Wedding services': [430], 'paid3': [751], 'Smart Home': [182], 'Low (not over charge behavior)': [472], 'Families with big baby': [762], 'Internet cafes': [454], 'Tourist attractions': [373], 'Guard tower defense game': [52], 'Consumer Goods': [272], 'Industry tag': [489], 'financial': [523, 871], 'mesasge': [154], 'Precious Metals': [240], 'paid6': [754], 'Household': [177], 'Doctors': [756], 'Science and Technology 1': [642], 'network disk': [217], 'Customized 1': [631], 'payment 5': [477], 'Florist / Fruit Shop': [443], 'business': [68], 'High risk': [701], 'teahouse': [459], 'Traditional securities brokerage': [913], 'advertising': [803], 'Paternity': [525], 'life': [814], 'science fiction': [88], 'Finance and economics': [822], 'Capital Preservation Fund': [661], 'Dice Game': [887], 'Fashion Arts': [808], 'Customization': [492, 789], 'Italy': [304], 'Mother': [251, 810], 'Korea': [341], 'game-Gem Elimination': [20], 'classical': [508, 786], 'France': [292], 'Regional Aviation': [831], 'Animation aggregate class': [732], 'United States': [296], 'Sale of cars': [261], 'Business simulation': [726], 'Sports Games': [880], 'Wealth Management': [233], 'Home Clothing': [300], 'pursue': [505, 776], 'Noble 1': [641], 'Foot Bath': [451], '1 reputation': [634], 'Cute style comic': [99], 'High-speed rail train reservation': [863], 'medical instruments': [529], 'airport': [837], 'Pregnant baby': [760], 'Sports Health': [308], 'Western Mythology': [82], 'Closed-end funds': [666], 'reality show': [898], 'High-end hotel': [868], 'Liquid medium': [693], 'Active in (nearly 30 days played 3-7 games)': [486], 'Baby Clothing': [315], 'Not paid the fee': [748], 'Chinese mainland (Airlines)': [839], 'High profitability': [696], 'bank': [455], 'Condition of the vehicles': [280], 'Culture and Education': [320], 'dance': [591], 'Bank financing': [671], 'Fishing Tackle': [444], 'Internet Insurance': [929], 'Puzzles': [878], \"Men's Shoes\": [291], 'Real Estate Property': [441], 'family': [611], 'mobile bank': [617, 923], 'He slightly - Family Life Cycle': [765], 'Listening to books category': [739], '8-core chips': [559], 'Real Estate Agents': [586], 'professional skills': [119], 'NFC chip': [561], 'novels': [129], 'Romance': [905], 'realtime fighting': [64], 'Star Hotels': [601], 'online shopping navigation': [111], 'Education and Training': [406], 'Financial Supermarket': [706], 'Middle-aged home': [769], 'Full Service Airlines': [829], 'payment 1': [473], 'Families with small babies': [763], 'Leisure and entertainment': [353], 'war chess': [67], 'groceries': [392], 'dotal-lol': [92], 'coupon': [194], 'Smart Shopping 1': [645], 'Video City': [448], 'Share Tour': [854], 'Property Industry new': [771], 'Entertainment News': [140], 'Nail Tattoos': [358], 'Astrology Horoscope': [193], 'Other operators': [613], 'Chess game': [886], 'Cozy 1': [648], 'Calendar': [201], 'Hotels': [383, 866], 'Bath': [582], 'User Community': [744], 'wig': [408], 'train': [171], 'Cost-effective mobile': [546], 'Utilities': [228], 'Tower Defense': [725], 'High-end business phone': [545], 'poetry': [134], 'Hardware Related': [741], 'Card Game': [876], 'Suitcase': [332], 'Large household appliances': [376], 'Parenting stage': [761], 'fighting game': [55], 'paid1': [749], 'Latvia': [410], 'Consumer loans': [675], 'Low profitability': [699], 'Financial Services': [681], 'Personal Care': [446], 'Photography phone': [544], 'Household appliances': [344], 'Household utensils': [305], 'Services 1': [638], 'Fragrance oils': [330], 'M package': [316], 'IMF': [234], 'Experience / DIY': [518], 'Desktop Enhancements': [226], 'Harem': [910], 'Gym': [437], 'Personal Effectiveness': [507, 787], 'Bathroom products': [346], 'screen size': [547], 'magazine and journal': [130], 'Southeast Asia (aviation)': [840], 'Four five-star hotel': [365], 'Jewelry, jewelry': [322], '3 inches and below': [553], 'other': [707, 825], 'Free exercise': [852], 'Non-guaranteed income': [674], 'Sea Amoy': [764], 'pet raising up': [71], 'Destination Region': [855], 'fashion outfit': [205], 'table game': [44], 'Internet banking': [676], 'Indian Express': [516], 'Editor': [230], 'Direct Banking': [678, 926], 'Recipes': [196], 'Switzerland': [286], 'Android': [557], 'Literacy Games': [49], 'Financial Information': [143, 708, 921], 'game-pet': [8], 'language training': [579], 'Golf Club': [366], 'Chattel trust': [684], 'Children puzzle game': [47], 'natural': [498, 775], 'Toiletries': [512], 'computer': [327], '6.0 inches above': [548], 'entertainment': [255, 801], 'Life Insurance': [668], 'Hong Kong': [293], \"Children's entertainment\": [354], 'Device Properties': [532], 'game-game type': [1], 'High school': [372], '4.5-3.1 inches': [552], 'foreign language': [118], 'Dual SIM': [562], 'Games deep tags': [465], 'Family Games': [889], 'Overseas travel': [847], 'game-aircraft': [19], 'communitation': [152], 'game-Cartoon': [26], 'Bus': [170], 'Low risk': [704], 'weibo': [147], 'tableware': [409], 'cosplay': [879], 'old style game': [56], 'action games': [882], 'military': [796], 'game-flight': [37], 'car': [259, 811], 'Housing Advice': [247], 'Baby Care': [400], 'SPA': [355], 'Active high (nearly 30 days played 7 games)': [485], '1 free': [639], 'Reviews': [195], 'store management': [218], 'Museum of Traditional Chinese Medicine': [594], 'Funny': [805], 'Australia': [352], 'Taiwan': [313], 'Cultivation fantasy game': [78], 'management': [120], 'Smart TV': [537], 'Day feed': [337], 'Personal Effectiveness 1': [646], 'exams': [123], 'Heritage Foundation': [925], 'General merchandise': [585], 'Austria': [342], '90s Japanese comic': [84], 'Other Read': [740], 'Documentary': [818], 'Domestic animation': [908], 'game-3D': [36], 'news': [139], 'math': [51], 'exchange rate': [710], 'Reputation': [495, 781], 'Cards RPG': [714], 'game-Zuma': [24], 'game-Music and Dance': [11], 'Foot Massage': [517], 'Philippines': [433], 'Baby food': [377], 'WP': [556], 'Socially': [146], 'The elimination of class': [730], 'Guaranteed income': [673], 'Swim': [407], 'Bread dessert': [387], 'notes': [212, 213], 'Families with babies': [759], 'football': [58], 'smart watch': [538], 'game-Business simulation': [32], 'Parental photography': [456], 'Germany': [298], 'car services': [425], 'Consumer Finance': [922], 'Tea cups': [434], 'love raising up': [72], 'Musical Instruments': [421], 'Shushan': [906], 'strategy game': [883], 'N shares': [655], 'microfilm': [804], 'trickery': [900], 'Experience': [439], 'Music Games': [890], 'Early Learning': [528], 'Smart Appliances': [621], 'game-Snipe': [39], 'Japan and South Korea (Air)': [841], 'Racing games': [891], 'blogs': [151], 'Driving School': [464], 'Wonderful': [799], 'Children': [802], 'bookstore': [461], 'Irritation / Fun': [497], 'Share Travels': [175], 'Baby Home Textiles': [415], 'Supermarket': [458], 'takeaway ordering': [192], 'Flight Shooting': [721], 'fashion': [809, 911], 'magic': [91], 'Pet Services': [453], 'shopping sharing': [113], 'Food company': [606], 'camera': [319], 'Skin care applications': [263], 'paid7': [755], 'farm': [69], 'study abroad': [117], 'No Car': [282], 'love and marriage': [148], 'Low Cost Airlines': [830], 'Game amount paid': [467], 'Shabu hot pot': [390], 'Phone': [325, 535], 'library': [122], 'poker game_doudizhu': [41], 'Hotel Chain': [869], 'Automotive News': [260], 'Tour around': [850], 'Quality 1': [630], 'Behalf of the drive': [166], 'A beauty care': [262], 'Flight area': [838], 'High places': [364], 'Jobs': [210], 'safety Insurance': [615], 'High Frequency (seven consecutive days there are games behavior)': [479], 'reading': [126], 'FOOD': [335], 'Health Management': [188], 'gambling': [75], 'Airline type': [828], 'Digital stores': [405], 'Mixed Fund': [659], 'Car': [168, 281], 'fixed income': [672], 'Nail': [526], 'read': [737], 'comfortable': [509, 791], 'majiang': [43], 'Trailer': [813], 'Hong Kong, Macao and Taiwan (Travel)': [859], 'sailing game': [93], 'Low installation (only 1-2 games)': [484], 'Table Games': [881], 'Digital Accessories': [326], 'Science and Technology': [503, 782, 817], 'Retail stores': [379], 'tourism': [807], 'flower shop': [463], 'Old machine': [543], 'Trendy / cool': [493], 'car repair': [608], 'Pay': [243, 747, 916], 'Low liquidity': [695], 'phone': [156], 'Low Frequency (only recently have the game play a day)': [481], 'Brands': [533], 'convenience services': [204], 'shows': [86], 'effort': [895], 'Pharmacy / medical devices / Health': [394], 'CAR WASH': [584], 'game-Online game': [27], 'Academic Information': [141], '6.0-5.6 inches': [549], 'tennis': [59], 'poker and chess': [40], \"Men's\": [290], 'fund': [657], 'casual games': [877], 'Estate': [246], 'Wearable Health': [620], 'Property Industry 1.0': [490], 'Volkswagen brand': [301], 'Custom label': [359], 'Europe and Fantasy': [909], 'Telecom company': [596], 'Trust': [682], 'Kitchenware': [398], 'Tomb': [897], '5.5-5.1 inches': [550], 'game-Leisure time': [4], 'Express': [200, 602], 'College Students': [276], 'Occupational identity': [275], 'Beauty SPA': [527], 'Malaysia': [414], 'Equity Fund': [664], 'Convenience Store': [393], 'United Kingdom': [339], 'Crowdfunding': [680, 917], 'Logistics companies': [603], 'RPG game': [62], 'Travel Travel': [846], 'business cards': [215], 'Stimulate fun': [790], 'WIFI': [231, 568], 'Car Rental': [460], 'Baby Products': [314], 'basketball': [57], 'Points Activities': [206], 'game-Rowing': [18], 'operator 3': [566], 'millitary and wars': [87], 'movie': [85, 157], 'High Flow': [691], 'free': [500, 774], 'Relatives 1': [635], 'game-Fishing': [10], 'music': [159, 723, 824], 'Korean food': [385], 'Fitness Equipment': [382], '3G': [570], 'japanese and korean style': [96], 'cosmetic': [329], 'iOS': [555], 'ski facility': [367], 'payment 4': [476], 'Browser': [225], 'Stock Futures': [688], 'reading platform': [133], 'stock': [651], 'payment 2': [474], 'Cleaning Products': [438], 'KTV service': [431], 'Billiard room': [450], 'MMO': [715], 'Securities': [237], 'securities company': [587], 'Lady bags': [312], 'bed linings': [306], 'Aftermarket decoration': [449], 'Games': [436, 892], 'Belgium': [389], 'post Office': [588], 'Peace - Search': [616], 'wallet': [317], 'community': [149], 'Baby bed': [403], 'US and Europe animation': [98], 'Skin Care': [334], 'Direct Bank': [235], 'Online booking class': [743], 'Irritation / Fun 1': [636], 'Shoes': [289, 348], 'game-Lianliankan': [23], 'Exchange': [239], 'checkpoints game': [53], 'game-Adventure puzzle': [13], 'Casual puzzle categories': [727], 'the University': [371, 590], 'Youth House': [766], 'tea shop': [427], 'Living': [189], 'High (had paid behavior)': [471], 'Cool trendy': [778], 'flight': [169], 'Car Accessories': [580], 'readers': [227], 'game': [713, 812], 'Lottery ticket': [242, 709, 914], 'General Aviation': [833], 'Intellectual development game': [50], 'game-shooting': [35], 'Hotel application': [172], 'Features': [540], 'shopping center': [578], 'Europe, the United States and Macao (aviation)': [842], 'Relatives': [496, 779], 'Intelligent hardware': [622], 'payment 3': [475], 'Optical Shop': [600], 'service': [499, 788], 'NS': [875], 'Turn based RPG game': [63], 'cinema': [420, 514], 'Digital': [318], 'Active Games': [470], 'High-end brand': [295], 'Southeast Asia (Travel)': [856], 'game-tank': [38], 'Sports News': [142], 'game-Finding fault': [6], 'Pirated content': [738], 'Business Travel': [163], 'Bond Fund': [660], 'dialects': [124], 'game-gem': [22], 'home appliances': [345], 'game-Game themes': [2], 'Hairdressing': [522], 'Operators': [563], 'Electric Car': [445], 'System Tools': [221], 'the film': [258, 742, 815], 'Denmark': [395], 'Aviation Integrated Services': [834]}\n"
     ]
    }
   ],
   "source": [
    "label_categoriesData.describe()#label_id is from 1 to 1021\n",
    "#Note I am working with Subset of Data: So there can be inconsistencies while trying to find exact matches\n",
    "categoryGrpByObj=label_categoriesData.groupby('category')\n",
    "labelidGrpByObj=label_categoriesData.groupby('label_id')\n",
    "print(len(categoryGrpByObj.groups),len(labelidGrpByObj.groups),len(label_categoriesData))\n",
    "#label_id is PK for label_categories table\n",
    "print(categoryGrpByObj.groups)#Mostly there is On-to-One association between categort and label_id; However there\n",
    "#are few excptions(1:N) like 'Financial Information': [143, 708, 921]\n",
    "#Thought point: Not sure: If we will like to comeup with another category ourself with more generic categories\n",
    "# In the subset of data number of categories are 835: Hopefullt their count is almost same for the entire dataset as well"
   ]
  },
  {
   "cell_type": "code",
   "execution_count": 19,
   "metadata": {
    "collapsed": false
   },
   "outputs": [
    {
     "data": {
      "text/html": [
       "<div>\n",
       "<table border=\"1\" class=\"dataframe\">\n",
       "  <thead>\n",
       "    <tr style=\"text-align: right;\">\n",
       "      <th></th>\n",
       "      <th>device_id</th>\n",
       "      <th>phone_brand</th>\n",
       "      <th>device_model</th>\n",
       "    </tr>\n",
       "  </thead>\n",
       "  <tbody>\n",
       "    <tr>\n",
       "      <th>0</th>\n",
       "      <td>-8890648629457979026</td>\n",
       "      <td>小米</td>\n",
       "      <td>红米</td>\n",
       "    </tr>\n",
       "    <tr>\n",
       "      <th>1</th>\n",
       "      <td>1277779817574759137</td>\n",
       "      <td>小米</td>\n",
       "      <td>MI 2</td>\n",
       "    </tr>\n",
       "    <tr>\n",
       "      <th>2</th>\n",
       "      <td>5137427614288105724</td>\n",
       "      <td>三星</td>\n",
       "      <td>Galaxy S4</td>\n",
       "    </tr>\n",
       "    <tr>\n",
       "      <th>3</th>\n",
       "      <td>3669464369358936369</td>\n",
       "      <td>SUGAR</td>\n",
       "      <td>时尚手机</td>\n",
       "    </tr>\n",
       "    <tr>\n",
       "      <th>4</th>\n",
       "      <td>-5019277647504317457</td>\n",
       "      <td>三星</td>\n",
       "      <td>Galaxy Note 2</td>\n",
       "    </tr>\n",
       "  </tbody>\n",
       "</table>\n",
       "</div>"
      ],
      "text/plain": [
       "             device_id phone_brand   device_model\n",
       "0 -8890648629457979026          小米             红米\n",
       "1  1277779817574759137          小米           MI 2\n",
       "2  5137427614288105724          三星      Galaxy S4\n",
       "3  3669464369358936369       SUGAR           时尚手机\n",
       "4 -5019277647504317457          三星  Galaxy Note 2"
      ]
     },
     "execution_count": 19,
     "metadata": {},
     "output_type": "execute_result"
    }
   ],
   "source": [
    "phone_brand_device_modelData=pd.read_csv(\"phone_brand_device_model.csv\")\n",
    "phone_brand_device_modelData[0:5]"
   ]
  },
  {
   "cell_type": "code",
   "execution_count": 21,
   "metadata": {
    "collapsed": false
   },
   "outputs": [
    {
     "name": "stdout",
     "output_type": "stream",
     "text": [
      "{'富可视': 'fks', '朵唯': 'dowe', '海尔': 'haier', '黑米': 'heymi', '荣耀6': 'Glory6', '小杨树': 'smallt', '基伍': 'kiwu', '乐视': 'lshi', '语信': 'yuxin', '唯米': 'weimi', '中兴': 'ZTE', '米奇': 'micky', '聆韵': 'lingyun', '摩托罗拉': 'moto', '小米': 'millet', '夏新': 'panosonic', '诺基亚': 'nokia', '邦华': 'banghua', '布拉格': 'Prague', '海信': 'hisense', '米歌': 'mige', '酷比魔方': 'koobee', '欧比': 'obi', '三星': 'samsung', '糖葫芦': 'candy', '纽曼': 'newman', '梦米': 'mengmi', '神舟': 'hasse', '摩乐': 'mole', '普耐尔': 'pner', '西米': 'ximi', '酷派': 'cool', '谷歌': 'google', '乡米': 'xiangmi', '沃普丰': 'wpf', '德赛': 'desci', '联想': 'lenovo', '超级手机': 'SuperPhone', '尼比鲁': 'nibilu', '波导': 'bodao', '艾优尼': 'aiyouni', '华硕': 'asus', '天语': 'Ktouch', '爱派尔': 'ipair', '优米': 'youmi', '昂达': 'ada', '红米': 'Redrice', '魅族': 'meizu', '欧新': 'ouxin', '青橙': 'greeno', '飞秒': 'fs', '美图': 'meitu', '酷珀': 'kupo', '一加': 'oneplus', '糯米': 'nuomi', '维图': 'weitu', '中国移动': 'ccmc', '大可乐': 'bigcola', '金立': 'gionee', '时尚手机': 'FashionPhones', '易派': 'epai', '优购': 'yougo', '华为': 'huawei', 'E派': 'epai', '努比亚': 'nubia', '锤子': 'hammer'}\n"
     ]
    }
   ],
   "source": [
    "chinestToEnglishDict={}\n",
    "with open(\"ChineseToEnglishDict\") as f:\n",
    "    for line in f:\n",
    "       (key, val) = line.split()\n",
    "       chinestToEnglishDict[key] = val\n",
    "print(chinestToEnglishDict)"
   ]
  },
  {
   "cell_type": "code",
   "execution_count": 26,
   "metadata": {
    "collapsed": false
   },
   "outputs": [],
   "source": [
    "def convertChineseToEnglish(x):\n",
    "    convertedVal=chinestToEnglishDict.get(x)\n",
    "    if convertedVal==None:\n",
    "        return x\n",
    "    return convertedVal\n",
    "englishPhoneBrands=phone_brand_device_modelData.phone_brand.apply(convertChineseToEnglish)#Assign It back to DF\n",
    "phone_brand_device_modelData.phone_brand=englishPhoneBrands\n",
    "englishDeviceModels=phone_brand_device_modelData.device_model.apply(convertChineseToEnglish)#Assign It back to DF\n",
    "phone_brand_device_modelData.device_model=englishDeviceModels"
   ]
  },
  {
   "cell_type": "code",
   "execution_count": 31,
   "metadata": {
    "collapsed": false
   },
   "outputs": [
    {
     "data": {
      "text/html": [
       "<div>\n",
       "<table border=\"1\" class=\"dataframe\">\n",
       "  <thead>\n",
       "    <tr style=\"text-align: right;\">\n",
       "      <th></th>\n",
       "      <th>device_id</th>\n",
       "      <th>gender</th>\n",
       "      <th>age</th>\n",
       "      <th>group</th>\n",
       "      <th>device_id</th>\n",
       "      <th>phone_brand</th>\n",
       "      <th>device_model</th>\n",
       "    </tr>\n",
       "  </thead>\n",
       "  <tbody>\n",
       "    <tr>\n",
       "      <th>0</th>\n",
       "      <td>-8076087639492063270</td>\n",
       "      <td>M</td>\n",
       "      <td>35</td>\n",
       "      <td>M32-38</td>\n",
       "      <td>-8890648629457979026</td>\n",
       "      <td>millet</td>\n",
       "      <td>Redrice</td>\n",
       "    </tr>\n",
       "    <tr>\n",
       "      <th>1</th>\n",
       "      <td>-2897161552818060146</td>\n",
       "      <td>M</td>\n",
       "      <td>35</td>\n",
       "      <td>M32-38</td>\n",
       "      <td>1277779817574759137</td>\n",
       "      <td>millet</td>\n",
       "      <td>MI 2</td>\n",
       "    </tr>\n",
       "    <tr>\n",
       "      <th>2</th>\n",
       "      <td>-8260683887967679142</td>\n",
       "      <td>M</td>\n",
       "      <td>35</td>\n",
       "      <td>M32-38</td>\n",
       "      <td>5137427614288105724</td>\n",
       "      <td>samsung</td>\n",
       "      <td>Galaxy S4</td>\n",
       "    </tr>\n",
       "    <tr>\n",
       "      <th>3</th>\n",
       "      <td>-4938849341048082022</td>\n",
       "      <td>M</td>\n",
       "      <td>30</td>\n",
       "      <td>M29-31</td>\n",
       "      <td>3669464369358936369</td>\n",
       "      <td>SUGAR</td>\n",
       "      <td>FashionPhones</td>\n",
       "    </tr>\n",
       "  </tbody>\n",
       "</table>\n",
       "</div>"
      ],
      "text/plain": [
       "             device_id gender  age   group            device_id phone_brand  \\\n",
       "0 -8076087639492063270      M   35  M32-38 -8890648629457979026      millet   \n",
       "1 -2897161552818060146      M   35  M32-38  1277779817574759137      millet   \n",
       "2 -8260683887967679142      M   35  M32-38  5137427614288105724     samsung   \n",
       "3 -4938849341048082022      M   30  M29-31  3669464369358936369       SUGAR   \n",
       "\n",
       "    device_model  \n",
       "0        Redrice  \n",
       "1           MI 2  \n",
       "2      Galaxy S4  \n",
       "3  FashionPhones  "
      ]
     },
     "execution_count": 31,
     "metadata": {},
     "output_type": "execute_result"
    }
   ],
   "source": [
    "#Concatenating TrainFile with Device Information\n",
    "train_device = pd.concat([trainFile, phone_brand_device_modelData], axis=1, join_axes=[trainFile.index])\n",
    "train_device[0:4]"
   ]
  },
  {
   "cell_type": "code",
   "execution_count": 32,
   "metadata": {
    "collapsed": false
   },
   "outputs": [
    {
     "data": {
      "text/html": [
       "<div>\n",
       "<table border=\"1\" class=\"dataframe\">\n",
       "  <thead>\n",
       "    <tr style=\"text-align: right;\">\n",
       "      <th></th>\n",
       "      <th>device_id</th>\n",
       "      <th>gender</th>\n",
       "      <th>age</th>\n",
       "      <th>group</th>\n",
       "      <th>device_id</th>\n",
       "      <th>phone_brand</th>\n",
       "      <th>device_model</th>\n",
       "      <th>event_id</th>\n",
       "      <th>device_id</th>\n",
       "      <th>timestamp</th>\n",
       "      <th>longitude</th>\n",
       "      <th>latitude</th>\n",
       "    </tr>\n",
       "  </thead>\n",
       "  <tbody>\n",
       "    <tr>\n",
       "      <th>0</th>\n",
       "      <td>-8076087639492063270</td>\n",
       "      <td>M</td>\n",
       "      <td>35</td>\n",
       "      <td>M32-38</td>\n",
       "      <td>-8890648629457979026</td>\n",
       "      <td>millet</td>\n",
       "      <td>Redrice</td>\n",
       "      <td>1</td>\n",
       "      <td>29182687948017175</td>\n",
       "      <td>2016-05-01 00:55:25</td>\n",
       "      <td>121.38</td>\n",
       "      <td>31.24</td>\n",
       "    </tr>\n",
       "    <tr>\n",
       "      <th>1</th>\n",
       "      <td>-2897161552818060146</td>\n",
       "      <td>M</td>\n",
       "      <td>35</td>\n",
       "      <td>M32-38</td>\n",
       "      <td>1277779817574759137</td>\n",
       "      <td>millet</td>\n",
       "      <td>MI 2</td>\n",
       "      <td>2</td>\n",
       "      <td>-6401643145415154744</td>\n",
       "      <td>2016-05-01 00:54:12</td>\n",
       "      <td>103.65</td>\n",
       "      <td>30.97</td>\n",
       "    </tr>\n",
       "    <tr>\n",
       "      <th>2</th>\n",
       "      <td>-8260683887967679142</td>\n",
       "      <td>M</td>\n",
       "      <td>35</td>\n",
       "      <td>M32-38</td>\n",
       "      <td>5137427614288105724</td>\n",
       "      <td>samsung</td>\n",
       "      <td>Galaxy S4</td>\n",
       "      <td>3</td>\n",
       "      <td>-4833982096941402721</td>\n",
       "      <td>2016-05-01 00:08:05</td>\n",
       "      <td>106.60</td>\n",
       "      <td>29.70</td>\n",
       "    </tr>\n",
       "    <tr>\n",
       "      <th>3</th>\n",
       "      <td>-4938849341048082022</td>\n",
       "      <td>M</td>\n",
       "      <td>30</td>\n",
       "      <td>M29-31</td>\n",
       "      <td>3669464369358936369</td>\n",
       "      <td>SUGAR</td>\n",
       "      <td>FashionPhones</td>\n",
       "      <td>4</td>\n",
       "      <td>-6815121365017318426</td>\n",
       "      <td>2016-05-01 00:06:40</td>\n",
       "      <td>104.27</td>\n",
       "      <td>23.28</td>\n",
       "    </tr>\n",
       "  </tbody>\n",
       "</table>\n",
       "</div>"
      ],
      "text/plain": [
       "             device_id gender  age   group            device_id phone_brand  \\\n",
       "0 -8076087639492063270      M   35  M32-38 -8890648629457979026      millet   \n",
       "1 -2897161552818060146      M   35  M32-38  1277779817574759137      millet   \n",
       "2 -8260683887967679142      M   35  M32-38  5137427614288105724     samsung   \n",
       "3 -4938849341048082022      M   30  M29-31  3669464369358936369       SUGAR   \n",
       "\n",
       "    device_model  event_id            device_id            timestamp  \\\n",
       "0        Redrice         1    29182687948017175  2016-05-01 00:55:25   \n",
       "1           MI 2         2 -6401643145415154744  2016-05-01 00:54:12   \n",
       "2      Galaxy S4         3 -4833982096941402721  2016-05-01 00:08:05   \n",
       "3  FashionPhones         4 -6815121365017318426  2016-05-01 00:06:40   \n",
       "\n",
       "   longitude  latitude  \n",
       "0     121.38     31.24  \n",
       "1     103.65     30.97  \n",
       "2     106.60     29.70  \n",
       "3     104.27     23.28  "
      ]
     },
     "execution_count": 32,
     "metadata": {},
     "output_type": "execute_result"
    }
   ],
   "source": [
    "#Concatenating Train File With Events Information\n",
    "train_device_events = pd.concat([train_device, eventsData], axis=1, join_axes=[train_device.index])\n",
    "train_device_events[0:4]"
   ]
  },
  {
   "cell_type": "code",
   "execution_count": 35,
   "metadata": {
    "collapsed": false
   },
   "outputs": [
    {
     "data": {
      "text/html": [
       "<div>\n",
       "<table border=\"1\" class=\"dataframe\">\n",
       "  <thead>\n",
       "    <tr style=\"text-align: right;\">\n",
       "      <th></th>\n",
       "      <th>event_id</th>\n",
       "      <th>app_id</th>\n",
       "      <th>is_installed</th>\n",
       "      <th>is_active</th>\n",
       "      <th>app_id</th>\n",
       "      <th>label_id</th>\n",
       "    </tr>\n",
       "  </thead>\n",
       "  <tbody>\n",
       "    <tr>\n",
       "      <th>0</th>\n",
       "      <td>2</td>\n",
       "      <td>5927333115845830913</td>\n",
       "      <td>1</td>\n",
       "      <td>1</td>\n",
       "      <td>7.324885e+18</td>\n",
       "      <td>251</td>\n",
       "    </tr>\n",
       "    <tr>\n",
       "      <th>1</th>\n",
       "      <td>2</td>\n",
       "      <td>-5720078949152207372</td>\n",
       "      <td>1</td>\n",
       "      <td>0</td>\n",
       "      <td>-4.494217e+18</td>\n",
       "      <td>251</td>\n",
       "    </tr>\n",
       "    <tr>\n",
       "      <th>2</th>\n",
       "      <td>2</td>\n",
       "      <td>-1633887856876571208</td>\n",
       "      <td>1</td>\n",
       "      <td>0</td>\n",
       "      <td>6.058196e+18</td>\n",
       "      <td>406</td>\n",
       "    </tr>\n",
       "  </tbody>\n",
       "</table>\n",
       "</div>"
      ],
      "text/plain": [
       "   event_id               app_id  is_installed  is_active        app_id  \\\n",
       "0         2  5927333115845830913             1          1  7.324885e+18   \n",
       "1         2 -5720078949152207372             1          0 -4.494217e+18   \n",
       "2         2 -1633887856876571208             1          0  6.058196e+18   \n",
       "\n",
       "   label_id  \n",
       "0       251  \n",
       "1       251  \n",
       "2       406  "
      ]
     },
     "execution_count": 35,
     "metadata": {},
     "output_type": "execute_result"
    }
   ],
   "source": [
    "#Collecting All APP Specific Information i.e. app info with label information\n",
    "app_events_labels=pd.concat([app_eventsData,app_labelsData],axis=1,join_axes=[app_eventsData.index])\n",
    "app_events_labels[0:3]"
   ]
  },
  {
   "cell_type": "code",
   "execution_count": 36,
   "metadata": {
    "collapsed": false
   },
   "outputs": [
    {
     "data": {
      "text/html": [
       "<div>\n",
       "<table border=\"1\" class=\"dataframe\">\n",
       "  <thead>\n",
       "    <tr style=\"text-align: right;\">\n",
       "      <th></th>\n",
       "      <th>event_id</th>\n",
       "      <th>app_id</th>\n",
       "      <th>is_installed</th>\n",
       "      <th>is_active</th>\n",
       "      <th>app_id</th>\n",
       "      <th>label_id</th>\n",
       "      <th>label_id</th>\n",
       "      <th>category</th>\n",
       "    </tr>\n",
       "  </thead>\n",
       "  <tbody>\n",
       "    <tr>\n",
       "      <th>0</th>\n",
       "      <td>2</td>\n",
       "      <td>5927333115845830913</td>\n",
       "      <td>1</td>\n",
       "      <td>1</td>\n",
       "      <td>7.324885e+18</td>\n",
       "      <td>251</td>\n",
       "      <td>1</td>\n",
       "      <td>NaN</td>\n",
       "    </tr>\n",
       "    <tr>\n",
       "      <th>1</th>\n",
       "      <td>2</td>\n",
       "      <td>-5720078949152207372</td>\n",
       "      <td>1</td>\n",
       "      <td>0</td>\n",
       "      <td>-4.494217e+18</td>\n",
       "      <td>251</td>\n",
       "      <td>2</td>\n",
       "      <td>game-game type</td>\n",
       "    </tr>\n",
       "    <tr>\n",
       "      <th>2</th>\n",
       "      <td>2</td>\n",
       "      <td>-1633887856876571208</td>\n",
       "      <td>1</td>\n",
       "      <td>0</td>\n",
       "      <td>6.058196e+18</td>\n",
       "      <td>406</td>\n",
       "      <td>3</td>\n",
       "      <td>game-Game themes</td>\n",
       "    </tr>\n",
       "  </tbody>\n",
       "</table>\n",
       "</div>"
      ],
      "text/plain": [
       "   event_id               app_id  is_installed  is_active        app_id  \\\n",
       "0         2  5927333115845830913             1          1  7.324885e+18   \n",
       "1         2 -5720078949152207372             1          0 -4.494217e+18   \n",
       "2         2 -1633887856876571208             1          0  6.058196e+18   \n",
       "\n",
       "   label_id  label_id          category  \n",
       "0       251         1               NaN  \n",
       "1       251         2    game-game type  \n",
       "2       406         3  game-Game themes  "
      ]
     },
     "execution_count": 36,
     "metadata": {},
     "output_type": "execute_result"
    }
   ],
   "source": [
    "app_events_labels_category=pd.concat([app_events_labels,label_categoriesData],axis=1,join_axes=[app_events_labels.index])\n",
    "app_events_labels_category[0:3]"
   ]
  },
  {
   "cell_type": "code",
   "execution_count": 37,
   "metadata": {
    "collapsed": false
   },
   "outputs": [
    {
     "data": {
      "text/html": [
       "<div>\n",
       "<table border=\"1\" class=\"dataframe\">\n",
       "  <thead>\n",
       "    <tr style=\"text-align: right;\">\n",
       "      <th></th>\n",
       "      <th>device_id</th>\n",
       "      <th>gender</th>\n",
       "      <th>age</th>\n",
       "      <th>group</th>\n",
       "      <th>device_id</th>\n",
       "      <th>phone_brand</th>\n",
       "      <th>device_model</th>\n",
       "      <th>event_id</th>\n",
       "      <th>device_id</th>\n",
       "      <th>timestamp</th>\n",
       "      <th>longitude</th>\n",
       "      <th>latitude</th>\n",
       "      <th>event_id</th>\n",
       "      <th>app_id</th>\n",
       "      <th>is_installed</th>\n",
       "      <th>is_active</th>\n",
       "      <th>app_id</th>\n",
       "      <th>label_id</th>\n",
       "      <th>label_id</th>\n",
       "      <th>category</th>\n",
       "    </tr>\n",
       "  </thead>\n",
       "  <tbody>\n",
       "    <tr>\n",
       "      <th>0</th>\n",
       "      <td>-8076087639492063270</td>\n",
       "      <td>M</td>\n",
       "      <td>35</td>\n",
       "      <td>M32-38</td>\n",
       "      <td>-8890648629457979026</td>\n",
       "      <td>millet</td>\n",
       "      <td>Redrice</td>\n",
       "      <td>1</td>\n",
       "      <td>29182687948017175</td>\n",
       "      <td>2016-05-01 00:55:25</td>\n",
       "      <td>121.38</td>\n",
       "      <td>31.24</td>\n",
       "      <td>2</td>\n",
       "      <td>5927333115845830913</td>\n",
       "      <td>1</td>\n",
       "      <td>1</td>\n",
       "      <td>7.324885e+18</td>\n",
       "      <td>251</td>\n",
       "      <td>1</td>\n",
       "      <td>NaN</td>\n",
       "    </tr>\n",
       "    <tr>\n",
       "      <th>1</th>\n",
       "      <td>-2897161552818060146</td>\n",
       "      <td>M</td>\n",
       "      <td>35</td>\n",
       "      <td>M32-38</td>\n",
       "      <td>1277779817574759137</td>\n",
       "      <td>millet</td>\n",
       "      <td>MI 2</td>\n",
       "      <td>2</td>\n",
       "      <td>-6401643145415154744</td>\n",
       "      <td>2016-05-01 00:54:12</td>\n",
       "      <td>103.65</td>\n",
       "      <td>30.97</td>\n",
       "      <td>2</td>\n",
       "      <td>-5720078949152207372</td>\n",
       "      <td>1</td>\n",
       "      <td>0</td>\n",
       "      <td>-4.494217e+18</td>\n",
       "      <td>251</td>\n",
       "      <td>2</td>\n",
       "      <td>game-game type</td>\n",
       "    </tr>\n",
       "    <tr>\n",
       "      <th>2</th>\n",
       "      <td>-8260683887967679142</td>\n",
       "      <td>M</td>\n",
       "      <td>35</td>\n",
       "      <td>M32-38</td>\n",
       "      <td>5137427614288105724</td>\n",
       "      <td>samsung</td>\n",
       "      <td>Galaxy S4</td>\n",
       "      <td>3</td>\n",
       "      <td>-4833982096941402721</td>\n",
       "      <td>2016-05-01 00:08:05</td>\n",
       "      <td>106.60</td>\n",
       "      <td>29.70</td>\n",
       "      <td>2</td>\n",
       "      <td>-1633887856876571208</td>\n",
       "      <td>1</td>\n",
       "      <td>0</td>\n",
       "      <td>6.058196e+18</td>\n",
       "      <td>406</td>\n",
       "      <td>3</td>\n",
       "      <td>game-Game themes</td>\n",
       "    </tr>\n",
       "    <tr>\n",
       "      <th>3</th>\n",
       "      <td>-4938849341048082022</td>\n",
       "      <td>M</td>\n",
       "      <td>30</td>\n",
       "      <td>M29-31</td>\n",
       "      <td>3669464369358936369</td>\n",
       "      <td>SUGAR</td>\n",
       "      <td>FashionPhones</td>\n",
       "      <td>4</td>\n",
       "      <td>-6815121365017318426</td>\n",
       "      <td>2016-05-01 00:06:40</td>\n",
       "      <td>104.27</td>\n",
       "      <td>23.28</td>\n",
       "      <td>2</td>\n",
       "      <td>-653184325010919369</td>\n",
       "      <td>1</td>\n",
       "      <td>1</td>\n",
       "      <td>6.058196e+18</td>\n",
       "      <td>407</td>\n",
       "      <td>4</td>\n",
       "      <td>game-Art Style</td>\n",
       "    </tr>\n",
       "  </tbody>\n",
       "</table>\n",
       "</div>"
      ],
      "text/plain": [
       "             device_id gender  age   group            device_id phone_brand  \\\n",
       "0 -8076087639492063270      M   35  M32-38 -8890648629457979026      millet   \n",
       "1 -2897161552818060146      M   35  M32-38  1277779817574759137      millet   \n",
       "2 -8260683887967679142      M   35  M32-38  5137427614288105724     samsung   \n",
       "3 -4938849341048082022      M   30  M29-31  3669464369358936369       SUGAR   \n",
       "\n",
       "    device_model  event_id            device_id            timestamp  \\\n",
       "0        Redrice         1    29182687948017175  2016-05-01 00:55:25   \n",
       "1           MI 2         2 -6401643145415154744  2016-05-01 00:54:12   \n",
       "2      Galaxy S4         3 -4833982096941402721  2016-05-01 00:08:05   \n",
       "3  FashionPhones         4 -6815121365017318426  2016-05-01 00:06:40   \n",
       "\n",
       "   longitude  latitude  event_id               app_id  is_installed  \\\n",
       "0     121.38     31.24         2  5927333115845830913             1   \n",
       "1     103.65     30.97         2 -5720078949152207372             1   \n",
       "2     106.60     29.70         2 -1633887856876571208             1   \n",
       "3     104.27     23.28         2  -653184325010919369             1   \n",
       "\n",
       "   is_active        app_id  label_id  label_id          category  \n",
       "0          1  7.324885e+18       251         1               NaN  \n",
       "1          0 -4.494217e+18       251         2    game-game type  \n",
       "2          0  6.058196e+18       406         3  game-Game themes  \n",
       "3          1  6.058196e+18       407         4    game-Art Style  "
      ]
     },
     "execution_count": 37,
     "metadata": {},
     "output_type": "execute_result"
    }
   ],
   "source": [
    "#Concatenating Device Information with App Information\n",
    "train_device_events_app=pd.concat([train_device_events,app_events_labels_category],\n",
    "                                  axis=1,join_axes=[train_device_events.index])\n",
    "train_device_events_app[0:4]"
   ]
  },
  {
   "cell_type": "code",
   "execution_count": 38,
   "metadata": {
    "collapsed": true
   },
   "outputs": [],
   "source": [
    "train_device_events_app.to_csv(\"DeNormalizedTrainingData.csv\")"
   ]
  },
  {
   "cell_type": "code",
   "execution_count": null,
   "metadata": {
    "collapsed": true
   },
   "outputs": [],
   "source": []
  }
 ],
 "metadata": {
  "kernelspec": {
   "display_name": "Python 3",
   "language": "python",
   "name": "python3"
  },
  "language_info": {
   "codemirror_mode": {
    "name": "ipython",
    "version": 3
   },
   "file_extension": ".py",
   "mimetype": "text/x-python",
   "name": "python",
   "nbconvert_exporter": "python",
   "pygments_lexer": "ipython3",
   "version": "3.5.1"
  }
 },
 "nbformat": 4,
 "nbformat_minor": 0
}
