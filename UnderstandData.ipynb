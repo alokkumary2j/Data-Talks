{
 "cells": [
  {
   "cell_type": "code",
   "execution_count": 2,
   "metadata": {
    "collapsed": false
   },
   "outputs": [],
   "source": [
    "import numpy as np\n",
    "import pandas as pd\n",
    "import matplotlib.pyplot as plt\n",
    "plt.style.use('ggplot')"
   ]
  },
  {
   "cell_type": "code",
   "execution_count": 3,
   "metadata": {
    "collapsed": false
   },
   "outputs": [],
   "source": [
    "trainFile=pd.read_csv(\"gender_age_train.csv\")\n",
    "testFile=pd.read_csv(\"gender_age_test.csv\")"
   ]
  },
  {
   "cell_type": "code",
   "execution_count": 4,
   "metadata": {
    "collapsed": false
   },
   "outputs": [
    {
     "data": {
      "text/html": [
       "<div>\n",
       "<table border=\"1\" class=\"dataframe\">\n",
       "  <thead>\n",
       "    <tr style=\"text-align: right;\">\n",
       "      <th></th>\n",
       "      <th>device_id</th>\n",
       "      <th>gender</th>\n",
       "      <th>age</th>\n",
       "      <th>group</th>\n",
       "    </tr>\n",
       "  </thead>\n",
       "  <tbody>\n",
       "    <tr>\n",
       "      <th>0</th>\n",
       "      <td>-8076087639492063270</td>\n",
       "      <td>M</td>\n",
       "      <td>35</td>\n",
       "      <td>M32-38</td>\n",
       "    </tr>\n",
       "  </tbody>\n",
       "</table>\n",
       "</div>"
      ],
      "text/plain": [
       "             device_id gender  age   group\n",
       "0 -8076087639492063270      M   35  M32-38"
      ]
     },
     "execution_count": 4,
     "metadata": {},
     "output_type": "execute_result"
    }
   ],
   "source": [
    "#print(trainFile.shape)#(74654,4)\n",
    "trainFile[0:1]"
   ]
  },
  {
   "cell_type": "code",
   "execution_count": 5,
   "metadata": {
    "collapsed": false
   },
   "outputs": [
    {
     "data": {
      "text/html": [
       "<div>\n",
       "<table border=\"1\" class=\"dataframe\">\n",
       "  <thead>\n",
       "    <tr style=\"text-align: right;\">\n",
       "      <th></th>\n",
       "      <th>device_id</th>\n",
       "    </tr>\n",
       "  </thead>\n",
       "  <tbody>\n",
       "    <tr>\n",
       "      <th>0</th>\n",
       "      <td>1002079943728939269</td>\n",
       "    </tr>\n",
       "  </tbody>\n",
       "</table>\n",
       "</div>"
      ],
      "text/plain": [
       "             device_id\n",
       "0  1002079943728939269"
      ]
     },
     "execution_count": 5,
     "metadata": {},
     "output_type": "execute_result"
    }
   ],
   "source": [
    "#print(testFile.shape)#(112071,1)\n",
    "testFile[0:1]"
   ]
  },
  {
   "cell_type": "code",
   "execution_count": 6,
   "metadata": {
    "collapsed": false
   },
   "outputs": [
    {
     "name": "stdout",
     "output_type": "stream",
     "text": [
      "[('F43+', 4194), ('M27-28', 5445), ('M29-31', 7309), ('M23-26', 9605), ('F24-26', 4190), ('F29-32', 4628), ('F27-28', 3118), ('F33-42', 5561), ('M32-38', 9476), ('M39+', 8581), ('M22-', 7488), ('F23-', 5050)]\n"
     ]
    }
   ],
   "source": [
    "#Understanding Target Value Characteristics(Regression w.r.t. Age, Classification w.r.t. Gender)\n",
    "trainGrpBy=trainFile.groupby(\"group\")\n",
    "trainGroups=trainGrpBy.groups\n",
    "trainGroupDict=[(key,len(trainGroups[key])) for key in trainGroups.keys()]\n",
    "print(trainGroupDict)\n",
    "#Female Groups are : F23-,F24-26,F27-28,F29-32,F33-42,F43+\n",
    "#Male Groups are : M22-,M23-26,M27-28,M29-31,M32-38,M39+"
   ]
  },
  {
   "cell_type": "code",
   "execution_count": 7,
   "metadata": {
    "collapsed": false
   },
   "outputs": [
    {
     "data": {
      "text/plain": [
       "74645"
      ]
     },
     "execution_count": 7,
     "metadata": {},
     "output_type": "execute_result"
    }
   ],
   "source": [
    "len(trainFile.groupby('device_id').groups.keys())#Number of unique device_ids: 74645 i.e. All device_id are unique"
   ]
  },
  {
   "cell_type": "code",
   "execution_count": 8,
   "metadata": {
    "collapsed": false
   },
   "outputs": [
    {
     "data": {
      "text/html": [
       "<div>\n",
       "<table border=\"1\" class=\"dataframe\">\n",
       "  <thead>\n",
       "    <tr style=\"text-align: right;\">\n",
       "      <th></th>\n",
       "      <th>device_id</th>\n",
       "      <th>age</th>\n",
       "    </tr>\n",
       "  </thead>\n",
       "  <tbody>\n",
       "    <tr>\n",
       "      <th>count</th>\n",
       "      <td>7.464500e+04</td>\n",
       "      <td>74645.000000</td>\n",
       "    </tr>\n",
       "    <tr>\n",
       "      <th>mean</th>\n",
       "      <td>-7.491354e+14</td>\n",
       "      <td>31.410342</td>\n",
       "    </tr>\n",
       "    <tr>\n",
       "      <th>std</th>\n",
       "      <td>5.327150e+18</td>\n",
       "      <td>9.868735</td>\n",
       "    </tr>\n",
       "    <tr>\n",
       "      <th>min</th>\n",
       "      <td>-9.223067e+18</td>\n",
       "      <td>1.000000</td>\n",
       "    </tr>\n",
       "    <tr>\n",
       "      <th>25%</th>\n",
       "      <td>-4.617367e+18</td>\n",
       "      <td>25.000000</td>\n",
       "    </tr>\n",
       "    <tr>\n",
       "      <th>50%</th>\n",
       "      <td>-1.841362e+16</td>\n",
       "      <td>29.000000</td>\n",
       "    </tr>\n",
       "    <tr>\n",
       "      <th>75%</th>\n",
       "      <td>4.636656e+18</td>\n",
       "      <td>36.000000</td>\n",
       "    </tr>\n",
       "    <tr>\n",
       "      <th>max</th>\n",
       "      <td>9.222849e+18</td>\n",
       "      <td>96.000000</td>\n",
       "    </tr>\n",
       "  </tbody>\n",
       "</table>\n",
       "</div>"
      ],
      "text/plain": [
       "          device_id           age\n",
       "count  7.464500e+04  74645.000000\n",
       "mean  -7.491354e+14     31.410342\n",
       "std    5.327150e+18      9.868735\n",
       "min   -9.223067e+18      1.000000\n",
       "25%   -4.617367e+18     25.000000\n",
       "50%   -1.841362e+16     29.000000\n",
       "75%    4.636656e+18     36.000000\n",
       "max    9.222849e+18     96.000000"
      ]
     },
     "execution_count": 8,
     "metadata": {},
     "output_type": "execute_result"
    }
   ],
   "source": [
    "trainFile.describe()#Interesting we have a Kid of Age 1 and grandpa having age 96 using Mobile Device :-)\n",
    "#But Most of the users are withing age group 25 to 36"
   ]
  },
  {
   "cell_type": "code",
   "execution_count": 9,
   "metadata": {
    "collapsed": false
   },
   "outputs": [
    {
     "name": "stdout",
     "output_type": "stream",
     "text": [
      "   event_id            device_id            timestamp  longitude  latitude\n",
      "0         1    29182687948017175  2016-05-01 00:55:25     121.38     31.24\n",
      "1         2 -6401643145415154744  2016-05-01 00:54:12     103.65     30.97\n"
     ]
    }
   ],
   "source": [
    "eventsData=pd.read_csv(\"events_subset.csv\")\n",
    "print(eventsData[0:2])\n",
    "#eventsData.describe()\n",
    "#event_id is PK here;device_id may get duplicated\n",
    "#longitude: -180 to 151 : Continuous\n",
    "#latitude: -37 to 53.64 : Continuous"
   ]
  },
  {
   "cell_type": "code",
   "execution_count": 10,
   "metadata": {
    "collapsed": false
   },
   "outputs": [
    {
     "data": {
      "text/html": [
       "<div>\n",
       "<table border=\"1\" class=\"dataframe\">\n",
       "  <thead>\n",
       "    <tr style=\"text-align: right;\">\n",
       "      <th></th>\n",
       "      <th>event_id</th>\n",
       "      <th>device_id</th>\n",
       "      <th>longitude</th>\n",
       "      <th>latitude</th>\n",
       "    </tr>\n",
       "  </thead>\n",
       "  <tbody>\n",
       "    <tr>\n",
       "      <th>event_id</th>\n",
       "      <td>1.000000</td>\n",
       "      <td>0.001050</td>\n",
       "      <td>-0.003879</td>\n",
       "      <td>-0.004633</td>\n",
       "    </tr>\n",
       "    <tr>\n",
       "      <th>device_id</th>\n",
       "      <td>0.001050</td>\n",
       "      <td>1.000000</td>\n",
       "      <td>-0.013765</td>\n",
       "      <td>-0.007659</td>\n",
       "    </tr>\n",
       "    <tr>\n",
       "      <th>longitude</th>\n",
       "      <td>-0.003879</td>\n",
       "      <td>-0.013765</td>\n",
       "      <td>1.000000</td>\n",
       "      <td>0.947287</td>\n",
       "    </tr>\n",
       "    <tr>\n",
       "      <th>latitude</th>\n",
       "      <td>-0.004633</td>\n",
       "      <td>-0.007659</td>\n",
       "      <td>0.947287</td>\n",
       "      <td>1.000000</td>\n",
       "    </tr>\n",
       "  </tbody>\n",
       "</table>\n",
       "</div>"
      ],
      "text/plain": [
       "           event_id  device_id  longitude  latitude\n",
       "event_id   1.000000   0.001050  -0.003879 -0.004633\n",
       "device_id  0.001050   1.000000  -0.013765 -0.007659\n",
       "longitude -0.003879  -0.013765   1.000000  0.947287\n",
       "latitude  -0.004633  -0.007659   0.947287  1.000000"
      ]
     },
     "execution_count": 10,
     "metadata": {},
     "output_type": "execute_result"
    }
   ],
   "source": [
    "#As expected => Very High Correlation between longitude and latitude : 0.947287\n",
    "eventsData.corr()"
   ]
  },
  {
   "cell_type": "code",
   "execution_count": 11,
   "metadata": {
    "collapsed": true
   },
   "outputs": [],
   "source": [
    "app_eventsData=pd.read_csv(\"app_events_subset.csv\")"
   ]
  },
  {
   "cell_type": "code",
   "execution_count": 12,
   "metadata": {
    "collapsed": false
   },
   "outputs": [
    {
     "data": {
      "text/html": [
       "<div>\n",
       "<table border=\"1\" class=\"dataframe\">\n",
       "  <thead>\n",
       "    <tr style=\"text-align: right;\">\n",
       "      <th></th>\n",
       "      <th>event_id</th>\n",
       "      <th>app_id</th>\n",
       "      <th>is_installed</th>\n",
       "      <th>is_active</th>\n",
       "    </tr>\n",
       "  </thead>\n",
       "  <tbody>\n",
       "    <tr>\n",
       "      <th>0</th>\n",
       "      <td>2</td>\n",
       "      <td>5927333115845830913</td>\n",
       "      <td>1</td>\n",
       "      <td>1</td>\n",
       "    </tr>\n",
       "  </tbody>\n",
       "</table>\n",
       "</div>"
      ],
      "text/plain": [
       "   event_id               app_id  is_installed  is_active\n",
       "0         2  5927333115845830913             1          1"
      ]
     },
     "execution_count": 12,
     "metadata": {},
     "output_type": "execute_result"
    }
   ],
   "source": [
    "app_eventsData[0:1]"
   ]
  },
  {
   "cell_type": "code",
   "execution_count": 21,
   "metadata": {
    "collapsed": false
   },
   "outputs": [
    {
     "name": "stdout",
     "output_type": "stream",
     "text": [
      "99999 5504 3553 99999 2 1\n"
     ]
    }
   ],
   "source": [
    "appDataGrpByObj=app_eventsData.groupby('app_id')\n",
    "eventsDataGrpByObj=app_eventsData.groupby('event_id')\n",
    "isActiveGrpByObj=app_eventsData.groupby('is_active')\n",
    "isInstalledGrpByObj=app_eventsData.groupby('is_installed')\n",
    "app_event_GrpByObj=app_eventsData.groupby(['app_id','event_id'])\n",
    "print(len(app_eventsData),len(appDataGrpByObj.groups),len(eventsDataGrpByObj.groups),\n",
    "      len(app_event_GrpByObj.groups),len(isActiveGrpByObj.groups),len(isInstalledGrpByObj.groups))\n",
    "#No Single PK for the Table app_events: (app_id,event_id) together makes the PK\n",
    "#2 Categorical Variables : is_active and is_installed\n",
    "#2 Continuous but Identity Columns : app_id and event_id"
   ]
  },
  {
   "cell_type": "code",
   "execution_count": 23,
   "metadata": {
    "collapsed": false
   },
   "outputs": [
    {
     "data": {
      "text/html": [
       "<div>\n",
       "<table border=\"1\" class=\"dataframe\">\n",
       "  <thead>\n",
       "    <tr style=\"text-align: right;\">\n",
       "      <th></th>\n",
       "      <th>app_id</th>\n",
       "      <th>label_id</th>\n",
       "    </tr>\n",
       "  </thead>\n",
       "  <tbody>\n",
       "    <tr>\n",
       "      <th>0</th>\n",
       "      <td>7324884708820027918</td>\n",
       "      <td>251</td>\n",
       "    </tr>\n",
       "  </tbody>\n",
       "</table>\n",
       "</div>"
      ],
      "text/plain": [
       "                app_id  label_id\n",
       "0  7324884708820027918       251"
      ]
     },
     "execution_count": 23,
     "metadata": {},
     "output_type": "execute_result"
    }
   ],
   "source": [
    "app_labelsData=pd.read_csv(\"app_labels_subset.csv\")\n",
    "app_labelsData[0:1]"
   ]
  },
  {
   "cell_type": "code",
   "execution_count": 29,
   "metadata": {
    "collapsed": false
   },
   "outputs": [
    {
     "name": "stdout",
     "output_type": "stream",
     "text": [
      "3502 31 4999\n"
     ]
    },
    {
     "data": {
      "text/html": [
       "<div>\n",
       "<table border=\"1\" class=\"dataframe\">\n",
       "  <thead>\n",
       "    <tr style=\"text-align: right;\">\n",
       "      <th></th>\n",
       "      <th>app_id</th>\n",
       "      <th>label_id</th>\n",
       "    </tr>\n",
       "  </thead>\n",
       "  <tbody>\n",
       "    <tr>\n",
       "      <th>count</th>\n",
       "      <td>4.999000e+03</td>\n",
       "      <td>4999.000000</td>\n",
       "    </tr>\n",
       "    <tr>\n",
       "      <th>mean</th>\n",
       "      <td>2.888705e+17</td>\n",
       "      <td>477.645929</td>\n",
       "    </tr>\n",
       "    <tr>\n",
       "      <th>std</th>\n",
       "      <td>5.277960e+18</td>\n",
       "      <td>127.849836</td>\n",
       "    </tr>\n",
       "    <tr>\n",
       "      <th>min</th>\n",
       "      <td>-9.216547e+18</td>\n",
       "      <td>251.000000</td>\n",
       "    </tr>\n",
       "    <tr>\n",
       "      <th>25%</th>\n",
       "      <td>-4.133423e+18</td>\n",
       "      <td>262.000000</td>\n",
       "    </tr>\n",
       "    <tr>\n",
       "      <th>50%</th>\n",
       "      <td>6.240908e+16</td>\n",
       "      <td>549.000000</td>\n",
       "    </tr>\n",
       "    <tr>\n",
       "      <th>75%</th>\n",
       "      <td>5.191946e+18</td>\n",
       "      <td>549.000000</td>\n",
       "    </tr>\n",
       "    <tr>\n",
       "      <th>max</th>\n",
       "      <td>9.220205e+18</td>\n",
       "      <td>691.000000</td>\n",
       "    </tr>\n",
       "  </tbody>\n",
       "</table>\n",
       "</div>"
      ],
      "text/plain": [
       "             app_id     label_id\n",
       "count  4.999000e+03  4999.000000\n",
       "mean   2.888705e+17   477.645929\n",
       "std    5.277960e+18   127.849836\n",
       "min   -9.216547e+18   251.000000\n",
       "25%   -4.133423e+18   262.000000\n",
       "50%    6.240908e+16   549.000000\n",
       "75%    5.191946e+18   549.000000\n",
       "max    9.220205e+18   691.000000"
      ]
     },
     "execution_count": 29,
     "metadata": {},
     "output_type": "execute_result"
    }
   ],
   "source": [
    "app_idGrpByObj=app_labelsData.groupby('app_id')\n",
    "label_idGrpByObj=app_labelsData.groupby('label_id')\n",
    "print(len(app_idGrpByObj.groups),len(label_idGrpByObj.groups),len(app_labelsData))\n",
    "#No PK for app_labels Table\n",
    "app_labelsData.describe()\n",
    "#label_id is between 251 to 691\n",
    "#app_id is between -9.21e18 to 9.22e18"
   ]
  },
  {
   "cell_type": "code",
   "execution_count": 31,
   "metadata": {
    "collapsed": false
   },
   "outputs": [
    {
     "data": {
      "text/html": [
       "<div>\n",
       "<table border=\"1\" class=\"dataframe\">\n",
       "  <thead>\n",
       "    <tr style=\"text-align: right;\">\n",
       "      <th></th>\n",
       "      <th>label_id</th>\n",
       "      <th>category</th>\n",
       "    </tr>\n",
       "  </thead>\n",
       "  <tbody>\n",
       "    <tr>\n",
       "      <th>0</th>\n",
       "      <td>1</td>\n",
       "      <td>NaN</td>\n",
       "    </tr>\n",
       "  </tbody>\n",
       "</table>\n",
       "</div>"
      ],
      "text/plain": [
       "   label_id category\n",
       "0         1      NaN"
      ]
     },
     "execution_count": 31,
     "metadata": {},
     "output_type": "execute_result"
    }
   ],
   "source": [
    "label_categoriesData=pd.read_csv(\"label_categories.csv\")\n",
    "label_categoriesData[0:1]"
   ]
  },
  {
   "cell_type": "code",
   "execution_count": 38,
   "metadata": {
    "collapsed": false
   },
   "outputs": [
    {
     "name": "stdout",
     "output_type": "stream",
     "text": [
      "835 930 930\n",
      "{'China Mainland': [310], 'Makeup': [333], 'Finance and economics': [822], 'blogs': [151], 'Olympic': [800], 'mesasge': [154], 'Western Mythology': [82], 'foreign language': [118], 'Cool trendy': [778], 'Pregnant baby': [760], 'computer': [327], 'game-Finding fault': [6], 'military': [796], 'Financial Supermarket': [706], 'Leisure and entertainment': [353], 'Domestic travel': [848], 'game-pet': [8], 'Pharmacy / medical devices / Health': [394], 'Consumer preferences': [271], 'library': [122], 'poker game_doudizhu': [41], 'Precious Metals': [240], 'fashion brand': [285], 'Housekeeping': [207], 'Financial Futures': [690], 'Home Decoration': [338], 'email': [155], 'Brands': [533], 'knight game': [77], 'Liability': [670], 'Chinese Classical Mythology': [81], 'Ping': [614], 'Location': [362], 'children books': [128], 'Relatives': [496, 779], 'Greece': [396], 'Desktop Enhancements': [226], 'Japan and South Korea (Travel)': [857], 'Digital Accessories': [326], 'news': [139], '5.0-4.6 inches': [551], 'Baby bed': [403], 'train': [171], 'Trendy / cool': [493], 'game-Gem Elimination': [20], 'Baby Care': [400], 'Swimming Supplies': [323], 'World of Warcraft': [90], 'Music phone': [541], '1 reputation': [634], 'The elimination of class': [730], 'Express': [200, 602], 'paid2': [750], 'online shopping navigation': [111], 'pixel style comic': [100], 'Journey to the West game': [79], 'pictures photography': [190], 'Custom label': [359], 'Accounting': [202, 918], 'Smart TV': [537], 'coupon': [194], \"Parent-child's play\": [598], 'game-Lianliankan': [23], 'bed linings': [306], 'flat': [536], 'game-Music and Dance': [11], 'Antique collection': [711], 'Aeronautical Information Service': [835], 'science': [137], 'Public class': [795], 'TV series': [816], 'ski facility': [367], 'Empty nesters': [770], \"Men's\": [290], 'Heritage Foundation': [925], 'Four five-star hotel': [365], 'Game willingness to pay': [466], 'Table Games': [881], 'Integrated Living': [208], 'Personal Care': [446], 'Skills Training': [604], 'entertainment': [255, 801], 'Kids': [307], 'High mobility': [692], 'Collection process': [340], 'High school': [372], 'Beauty phone': [542], 'Skin Care': [334], 'financial': [523, 871], 'Arts': [819], 'realtime fighting': [64], 'Total Cost 1': [649], 'Wealth Management': [233], 'Real Estate Agents': [586], 'payment 3': [475], 'Tomb': [897], 'Office Supplies': [321], 'Active high (nearly 30 days played 7 games)': [485], 'Weather': [198], 'Stereo headphones': [402], 'Outlaws of the Marsh game': [80], 'sports': [94], 'bank': [455], 'NS': [875], 'Lunch Dinner': [386], 'High-end brand': [295], 'Animation aggregate class': [732], 'High-end hotel': [868], 'lose weight': [184], 'math': [51], 'Device Properties': [532], 'basketball': [57], 'Recipes': [196], 'Puzzles': [878], 'futures': [238], 'Personal Effectiveness': [507, 787], 'game-Business simulation': [32], 'flower shop': [463], 'MOBA': [718], 'Input Method': [224], 'Gym': [437], 'gambling': [75], 'Flight Shooting': [721], 'Southeast Asia (Travel)': [856], 'City resident': [610], 'Classical 1': [647], 'other ball game': [61], 'Editor': [230], 'Hotel Type': [867], 'game-Cartoon': [26], 'Education and Training': [406], 'billards': [60], 'shopping sharing': [113], 'sports and gym': [185], 'Domestic services': [357], 'microfilm': [804], 'Exam training': [531], 'advertising': [803], 'movie': [85, 157], 'Decoration': [178], 'Baby Clothing': [315], 'beauty': [521], 'video': [160], 'Appliance stores': [432], 'Customization': [492, 789], 'game-Art Style': [3], 'Household': [177], 'Pursuit 1': [644], 'Switzerland': [286], 'gaming strategy': [145], 'Indian Express': [516], 'Word games': [893], 'Tobacco row': [380], 'Airline type': [828], 'Overseas travel': [847], 'game-Online game': [27], 'Pirated content': [738], 'Hong Kong': [293], 'Higher risk': [702], 'Quality 1': [630], 'Travel preferences': [853], 'United Kingdom': [339], 'Car Rental': [460], 'Korean food': [385], 'Trendy / cool 1': [632], 'exchange rate': [710], 'weibo': [147], 'football': [58], 'Chess game': [886], 'Cultivation fantasy game': [78], 'Integrated Air Travel Booking': [865], 'Families with small babies': [763], '8-core chips': [559], 'paid3': [751], 'securities company': [587], 'Digital stores': [405], '3 kindom game': [76], 'Sellers': [249], 'Not paid the fee': [748], 'Crowdfunding': [680, 917], 'Purpose of travel': [845], 'Go places': [363], 'Racing (RAC)': [720], 'Pet Services': [453], 'Parental photography': [456], 'tourism': [807], 'High installation (over 7 games)': [482], 'Scheduling': [211], 'General Aviation': [833], 'Gyro': [560], 'Technology Information': [144], 'RPG game': [62], 'Vermicelli': [745], 'Commodity Funds': [663], 'Debit and credit': [244], 'tableware': [409], 'japanese and korean style': [96], 'Passion 1': [640], 'Living': [189], 'A shares': [652], 'Italy': [304], 'chinese comic': [104], 'He slightly - Family Life Cycle': [765], 'Prepare baby': [758], 'Philippines': [433], 'game-Zuma': [24], 'airport': [837], 'Noble 1': [641], 'Norway': [349], 'game-Bobble': [25], 'Internet Securities': [927], 'exams': [123], 'DS_P2P net loan': [361], 'Nature 1': [637], 'Man playing favorites': [191], 'Portugal': [375], 'Families with big baby': [762], 'Skin care applications': [263], 'Household appliances': [344], 'Wedding services': [430], 'fashion': [809, 911], 'Sports Games': [880], 'game-shooting': [35], 'Home Clothing': [300], 'Consumer Goods': [272], 'tea shop': [427], 'payment 2': [474], 'management': [120], 'Life Insurance': [668], 'language training': [579], 'The installation (3-7 games)': [483], 'Phone': [325, 535], 'Contacts': [216], 'Health Management': [188], 'Taiwan': [313], 'household products': [181], 'Musical instruments': [515], 'N shares': [655], 'Southeast Asia (aviation)': [840], 'Share Travels': [175], 'Swim': [407], 'Simple 1': [633], 'Billiard room': [450], 'Features': [540], 'Internet banking': [676], 'Bank Credit Card': [928], 'Austria': [342], 'Korea': [341], 'Beach landing game': [54], 'FOOD': [335], 'IMF': [234], 'pet raising up': [71], 'Slim': [524], 'Listening to books category': [739], 'Real Estate Property': [441], 'Belgium': [389], 'transportation hub': [368], 'Netherlands': [401], 'show': [161, 257], 'free': [500, 774], 'class managemetn': [125], 'Retail stores': [379], 'Property Trust': [686], 'Telecom company': [596], 'Games': [436, 892], 'Finland': [417], 'love raising up': [72], 'Puzzle': [48], 'Fragrance oils': [330], 'Teahouse': [511], 'tribe': [903], 'Nail': [526], 'Financial Planning Services': [424], 'Free exercise': [852], 'Original': [798], 'Pregnant mother supplies': [347], 'Luxury brand': [328], 'Estate': [246], 'unknown': [73, 105, 106, 107, 266, 267, 268, 269, 270, 277, 278, 279, 360, 572, 573, 574, 575, 576, 577, 623, 624, 625, 626, 627, 628, 873], 'P2P net loan': [915], 'KTV': [256], 'kids toys': [404], 'education for babies': [115], 'game-Box': [21], 'game-game type': [1], 'Chinese painting': [95], 'Housing agency': [442], 'cinema': [420, 514], 'Denmark': [395], 'casual games': [877], 'CAR WASH': [584], 'Florist / Fruit Shop': [443], 'Accessories': [303], 'Aviation Integrated Services': [834], 'Golf Club': [366], 'Smart Home': [182], 'United States': [296], 'dance': [591], 'Low Risk': [705], 'High Flow': [691], 'farm': [69], 'Sweden': [302], 'Book hotel complex': [862], 'Latvia': [410], 'game-flight': [37], 'Utilities': [228], 'NFC chip': [561], 'Stock Futures': [688], 'Texas Poker': [45], 'Children puzzle game': [47], 'Direct Bank': [235], 'Electric Car': [445], 'Families with babies': [759], 'smart watch': [538], 'Class animation community': [733], 'joke': [135], 'Finance': [232, 912], 'Operators': [563], 'cosplay': [879], 'game-Game themes': [2], 'Martial arts': [907], 'payment 5': [477], 'Adventure Game': [885], 'vitality': [504, 785], 'Android': [557], 'Traditional securities brokerage': [913], 'Photography phone': [544], 'Health Products': [462], 'US and Europe magic comic': [102], 'Low active (nearly 30 days played 1-2 games)': [487], 'stock': [651], 'Documentary': [818], 'Lady bags': [312], 'medical instruments': [529], 'Medium risk': [703], 'Australia': [352], 'psychology': [136], 'Intellectual development game': [50], 'fingerprint': [609], 'Engineering Drawing': [219], 'screen size': [547], 'Medical': [187, 519], 'game-Puzzle': [12], 'Trust': [682], 'Lottery ticket': [242, 709, 914], 'education outside class': [116], 'Jobs': [210], 'SPA': [355], 'community': [149], 'Airline Alliances': [836], 'Low income': [700], 'literature': [735], 'Integrated ticket reservation': [861], 'Smart bracelet': [539], 'Europe, the United States and Macao (Travel)': [858], 'Travel Information': [851], 'Express Inn': [583], 'sailing game': [93], 'Moderate profitability': [698], 'Water Coffee Bar': [356], 'Lenovo Cooperation': [820], 'puzzel': [74], 'operator 3': [566], 'Beauty SPA': [527], 'navigation': [165, 896], 'MMO': [715], 'paid4': [752], 'Musical Instruments': [421], 'Smart Shopping 1': [645], 'game-Horizontal version': [34], 'Wedding photography': [452], 'Baby Products': [314], 'reading platform': [133], 'Securities': [237], 'High-end business phone': [545], 'Coach reservations': [864], 'poetry': [134], 'magazine and journal': [130], '3G': [570], 'Star Hotels': [601], 'comfortable': [509, 791], 'Hardware Related': [741], 'Swimming pool': [447], 'Personalized photo': [599], 'Resolution': [619], 'Travel advisory': [173], 'Foot Massage': [517], 'Low installation (only 1-2 games)': [484], 'reality show': [898], 'family': [611], 'game-Rowing': [18], 'Personal Effectiveness 1': [646], 'Kitchen Appliances': [351], 'Baby food': [377], 'App Store': [222], 'Cycling Sport': [429], 'payment 1': [473], 'Travel Travel': [846], 'Bathroom products': [346], 'car repair': [608], 'action games': [882], 'Behalf of the drive': [166], 'Bread dessert': [387], 'Museum of Traditional Chinese Medicine': [594], 'Index Fund': [665], 'Youth House': [766], 'study abroad': [117], '3 inches and below': [553], 'notes': [212, 213], 'Parkour avoid class': [729], 'IF (there are three consecutive days game behavior)': [480], 'communitation': [152], 'Board games and entertainment': [435], 'Low liquidity': [695], 'Monetary Fund': [658], 'game-Adventure puzzle': [13], 'Beauty Nail': [264], 'underwear': [299], 'Stimulate fun': [790], 'Prepare pregnant pregnancy': [252], 'Car decoration': [440], 'Educational games': [888], 'round': [716], 'Harem': [910], 'KTV service': [431], 'Kitchenware': [398], 'Hardware Features': [558], 'convenience services': [204], 'fighting game': [55], 'Dress shoes': [287], 'Canada': [324], 'paid1': [749], 'game-Role -playing games': [28], 'phone': [156], 'Brazil': [413], 'Enthusiasm': [501, 784], 'Non-standard accommodation': [870], 'shopping center': [578], 'online shopping, price comparing': [112], 'Feature Pack': [331], 'Animation': [731, 797], 'Video City': [448], 'Supermarkets': [423], 'hospital': [374], 'Three Generations of children': [768], 'Parenting': [253, 592], 'Cleaning Products': [438], 'health': [183, 186, 794], 'Sea Amoy': [764], 'online malls': [109], 'Experience': [439], 'Convenience Store': [393], 'Tower Defense': [725], 'Japan and South Korea (Air)': [841], 'Internet Insurance': [929], 'Toiletries': [512], 'Business Office': [197], 'Simulators': [884], 'business cards': [215], 'No Car': [282], 'Brand Country': [274], 'Condition of the vehicles': [280], 'Fashion Arts': [808], 'Smart Appliances': [621], 'Cozy 1': [648], 'Funny': [805], 'Literacy Games': [49], 'travel': [844], 'Equipment category': [534], 'Rentals': [250], 'Thailand': [388], 'paid5': [753], 'quality': [491, 777], 'Sale of cars': [261], 'home appliances': [345], 'Coffee water bar / teahouse': [411], 'Culture and Education': [320], 'Mixed Fund': [659], 'aviation': [827], 'game-3D': [36], 'Air Travel': [826], 'Internet cafes': [454], 'Games deep tags': [465], 'Astrology Horoscope': [193], 'physical education': [793], 'Jin Yong': [899], 'Card Game': [876], 'Information': [138, 823], 'japanese comic and animation': [97], 'online shopping by group, like groupon': [110], 'Talk show': [821], 'picture sharing': [150], 'Jewelry, jewelry': [322], 'Parenting stage': [761], 'Tea cups': [434], 'Insurance company': [607], 'Day feed': [337], 'Crowdfunding financing': [241], 'The internet': [567], 'Exchange': [239], 'wig': [408], 'Relatives 1': [635], 'game-stress reliever': [7], 'the little sun': [767], 'Hong Kong, Macao and Taiwan (Travel)': [859], 'natural': [498, 775], 'Internet Banking': [920], 'Other operators': [613], 'Ninja': [904], 'car': [259, 811], 'game-gem': [22], 'operator 2': [565], 'Driving School': [464], 'QDII fund': [662], 'Logistics companies': [603], 'service': [499, 788], 'Occupational identity': [275], 'Hotels': [383, 866], 'ARPG': [65, 717], 'Chattel trust': [684], 'Jewelry Watches': [283], 'game-Cutting things': [5], 'post Office': [588], 'retail': [412], 'Experience / DIY': [518], 'Nail Tattoos': [358], 'dialects': [124], 'Sports': [419, 724], 'SCHOOL': [589], 'Leather Care': [513], 'Low (not over charge behavior)': [472], 'Shoes': [289, 348], 'tourism product': [174], 'Reputation': [495, 781], 'Reviews': [195], 'High Frequency (seven consecutive days there are games behavior)': [479], 'Commodity Futures': [689], 'game-card': [31], 'File Editor': [214], 'Hairdressing': [522], 'Outdoor sport': [297], 'reading for fetus': [127], 'Europe and Fantasy': [909], 'Insurance': [618, 667, 669], '80s Japanese comic': [83], 'Xian Xia': [894], 'Chess categories': [728], 'Liquid medium': [693], 'shows': [86], 'SPA / Health Center': [416], 'phone tools': [220], 'network disk': [217], 'music': [159, 723, 824], 'Clock': [199], 'game-Fishing': [10], 'radio': [158], 'paid7': [755], 'Equity Fund': [664], 'Aftermarket decoration': [449], 'game': [713, 812], 'Consumer loans': [675], 'And the Church': [650], 'WIFI': [231, 568], 'WP': [556], 'iOS': [555], 'France': [292], 'war chess': [67], 'Ultra-high frequency (more than seven consecutive days game behavior)': [478], 'Music Games': [890], 'Other Read': [740], 'B Shares': [653], 'High places': [364], 'Mother': [251, 810], 'Socially': [146], '5.5-5.1 inches': [550], 'Fishing Tackle': [444], 'branded watch': [284], 'Consumer orientation': [273], 'game-Action Shooting': [33], 'Bath': [582], 'game-Leisure time': [4], 'Large household appliances': [376], 'tennis': [59], 'flight': [169], 'Non-guaranteed income': [674], 'Europe, the United States and Macao (aviation)': [842], 'model': [612], 'Regional Aviation': [831], 'College Students': [276], 'Academic Information': [141], 'Tourist attractions': [373], 'safety Insurance': [615], 'High-speed rail train reservation': [863], 'paid6': [754], 'Chinese mainland (Airlines)': [839], 'Pay': [243, 747, 916], 'Buy': [248], 'read': [737], 'Total Cost': [510, 773], 'SLG (strategy)': [719], 'Points Activities': [206], 'Customized 1': [631], 'Traditional Insurance': [924], 'H shares': [654], 'Low risk': [704], 'Cute style comic': [99], 'education': [114, 806], 'fund': [657], 'Trust funds': [683], 'the film': [258, 742, 815], 'other': [707, 825], 'marry': [520], 'Domestic animation': [908], 'Entertainment News': [140], 'Doctors': [756], 'Photographic prints': [428], 'Property Industry 1.0': [490], 'payment 4': [476], 'Bus': [170], 'Children': [802], 'teahouse': [459], 'Capital Preservation Fund': [661], 'map': [164], 'Guard tower defense game': [52], 'Low Cost Airlines': [830], 'raising up game': [70], 'business strategy game': [66], 'strategy game': [883], '6.0-5.6 inches': [549], 'User Community': [744], '6.0 inches above': [548], 'Decoration materials': [381], 'love and marriage': [148], 'General merchandise': [585], 'store management': [218], 'Smart Shopping': [506, 780], 'IM': [153], 'Intellectual Property Trust': [687], 'noble': [502, 772], 'Collection shop': [399], 'A beauty care': [262], 'reading': [126], 'Dual SIM': [562], 'Beauty salons': [422], 'Car Accessories': [580], 'Food company': [606], 'Dice Game': [887], 'Old machine': [543], '2G': [571], 'Industry tag': [489], \"Read the operator's\": [736], 'Volkswagen brand': [301], 'Maternal and child population': [757], 'Consumer Finance': [922], 'Booking channels': [860], 'Family Games': [889], 'Optical Shop': [600], 'Online booking class': [743], 'Casual puzzle categories': [727], 'operating system': [554], 'Tour around': [850], 'Car Owners': [203], 'Wearable Health': [620], 'work': [209], 'Calendar': [201], 'classical': [508, 786], 'car brand': [488], 'Taxi': [167], 'Travel': [597], 'game-Racing': [16], 'Game Installation': [469], 'magic': [91], 'Science and Technology': [503, 782, 817], 'cosmetic': [329], 'Concert hall': [605], 'game-aircraft': [19], 'High (had paid behavior)': [471], 'Maternal and child supplies': [254], 'Snacks Snacks': [378], 'life': [814], 'Full Service Airlines': [829], 'Senki': [901], 'US and Europe animation': [98], 'game-Tactics': [30], 'table game': [44], 'game-Snipe': [39], '90s Japanese comic': [84], 'Share Tour': [854], 'Furniture': [180, 397], 'Real Estate Trust': [685], 'takeaway ordering': [192], 'Financial Services': [681], 'Hong Kong, Macao and Taiwan (aviation)': [843], 'Guaranteed income': [673], 'Destination Region': [855], 'Laundry / Leather Care / change clothes': [418], 'groceries': [392], 'dotal-lol': [92], 'car services': [425], 'novels': [129], 'dictionary': [132], 'Culture & Education': [370], 'game-Motorcycle': [17], 'Active Games': [470], 'professional skills': [119], \"Children's entertainment\": [354], 'M package': [316], 'Direct Insurance': [236], 'fixed income': [672], '1 free': [639], 'Game Frequency': [468], 'trickery': [900], 'majiang': [43], 'zombies game': [89], 'Shabu hot pot': [390], 'Supermarket': [458], 'Low Frequency (only recently have the game play a day)': [481], 'Foot Bath': [451], 'Business Travel': [163], 'checkpoints game': [53], 'Singapore': [384], 'Early Learning': [528], 'AIRPORT': [369], 'Property Industry new': [771], 'buffet': [391], '1 vitality': [643], 'pawn shop': [581], 'Household utensils': [305], 'operatior 1': [564], 'Browser': [225], 'realistic style comic': [103], 'mobile bank': [617, 923], 'pursue': [505, 776], 'Cost-effective mobile': [546], 'Science and Technology 1': [642], 'pharmacy': [457], 'Third-party card management': [919], 'art and culture': [121], 'chess': [42], 'Romance': [905], 'Direct Banking': [678, 926], 'Baby Home Textiles': [415], 'online shopping': [108], 'game-Answer': [9], 'Women': [288], 'readers': [227], 'Racing games': [891], 'search': [223], '4G': [569], 'Cards RPG': [714], 'effort': [895], 'Hotel Chain': [869], \"Men's Shoes\": [291], 'High risk': [701], 'Middle-aged home': [769], 'Game amount paid': [467], 'Journey': [902], 'Fast food meals': [336], 'Western Dinner': [350], 'violence comic': [101], 'Auto 4S shop': [426], 'Spain': [343], 'coach transport': [176], 'Comics Reading Tools': [734], 'Bond Fund': [660], 'High profitability': [696], 'Services 1': [638], 'game-Competitive action': [29], 'Peace - Search': [616], 'Training institutions': [530], 'Suitcase': [332], 'Bags': [311], 'Lower liquidity': [694], 'Low profitability': [699], 'Paternity': [525], 'millitary and wars': [87], 'Car': [168, 281], 'poker': [46], 'poker and chess': [40], 'Make-up application': [265], 'BM': [874], 'Irritation / Fun 1': [636], 'old style game': [56], 'Trailer': [813], 'Shushan': [906], 'Flight area': [838], 'Appliances': [179], 'Closed-end funds': [666], '4.5-3.1 inches': [552], 'Japan': [294], 'Financial Information': [143, 708, 921], 'outdoor equipment': [309], 'science fiction': [88], 'wallet': [317], 'Viewing preferences': [792], 'Property Industry 2.0': [629], 'High-end business aviation': [832], 'bookstore': [461], 'Shootout Shooting (STG)': [722], 'Wonderful': [799], 'Malaysia': [414], 'camera': [319], 'Active in (nearly 30 days played 3-7 games)': [486], 'Sports Health': [308], 'Turn based RPG game': [63], 'Other shares': [656], 'System Tools': [221], 'Digital': [318], 'Bank financing': [671], 'game-Parkour': [15], 'Third party payment': [679], 'Corporate': [595], 'Irritation / Fun': [497], 'business': [68], 'game-Parkour Racing': [14], 'Sports News': [142], 'Housing Advice': [247], 'Germany': [298], 'Fitness Equipment': [382], 'comics': [131], 'Business simulation': [726], 'Simple': [494, 783], 'Automotive News': [260], 'Audiobooks': [162], 'game-tank': [38], 'Tencent': [712], 'Intelligent hardware': [622], 'Higher income': [697], 'the University': [371, 590], 'P2P': [677, 872], 'Integrated tourism': [849], 'Month Center': [593], 'Hotel application': [172], 'fashion outfit': [205], 'Buy class': [746]}\n"
     ]
    }
   ],
   "source": [
    "label_categoriesData.describe()#label_id is from 1 to 1021\n",
    "#Note I am working with Subset of Data: So there can be inconsistencies while trying to find exact matches\n",
    "categoryGrpByObj=label_categoriesData.groupby('category')\n",
    "labelidGrpByObj=label_categoriesData.groupby('label_id')\n",
    "print(len(categoryGrpByObj.groups),len(labelidGrpByObj.groups),len(label_categoriesData))\n",
    "#label_id is PK for label_categories table\n",
    "print(categoryGrpByObj.groups)#Mostly there is On-to-One association between categort and label_id; However there\n",
    "#are few excptions(1:N) like 'Financial Information': [143, 708, 921]\n",
    "#Thought point: Not sure: If we will like to comeup with another category ourself with more generic categories\n",
    "# In the subset of data number of categories are 835: Hopefullt their count is almost same for the entire dataset as well"
   ]
  },
  {
   "cell_type": "code",
   "execution_count": 41,
   "metadata": {
    "collapsed": false
   },
   "outputs": [
    {
     "data": {
      "text/html": [
       "<div>\n",
       "<table border=\"1\" class=\"dataframe\">\n",
       "  <thead>\n",
       "    <tr style=\"text-align: right;\">\n",
       "      <th></th>\n",
       "      <th>device_id</th>\n",
       "      <th>phone_brand</th>\n",
       "      <th>device_model</th>\n",
       "    </tr>\n",
       "  </thead>\n",
       "  <tbody>\n",
       "    <tr>\n",
       "      <th>0</th>\n",
       "      <td>-8890648629457979026</td>\n",
       "      <td>小米</td>\n",
       "      <td>红米</td>\n",
       "    </tr>\n",
       "    <tr>\n",
       "      <th>1</th>\n",
       "      <td>1277779817574759137</td>\n",
       "      <td>小米</td>\n",
       "      <td>MI 2</td>\n",
       "    </tr>\n",
       "    <tr>\n",
       "      <th>2</th>\n",
       "      <td>5137427614288105724</td>\n",
       "      <td>三星</td>\n",
       "      <td>Galaxy S4</td>\n",
       "    </tr>\n",
       "    <tr>\n",
       "      <th>3</th>\n",
       "      <td>3669464369358936369</td>\n",
       "      <td>SUGAR</td>\n",
       "      <td>时尚手机</td>\n",
       "    </tr>\n",
       "    <tr>\n",
       "      <th>4</th>\n",
       "      <td>-5019277647504317457</td>\n",
       "      <td>三星</td>\n",
       "      <td>Galaxy Note 2</td>\n",
       "    </tr>\n",
       "  </tbody>\n",
       "</table>\n",
       "</div>"
      ],
      "text/plain": [
       "             device_id phone_brand   device_model\n",
       "0 -8890648629457979026          小米             红米\n",
       "1  1277779817574759137          小米           MI 2\n",
       "2  5137427614288105724          三星      Galaxy S4\n",
       "3  3669464369358936369       SUGAR           时尚手机\n",
       "4 -5019277647504317457          三星  Galaxy Note 2"
      ]
     },
     "execution_count": 41,
     "metadata": {},
     "output_type": "execute_result"
    }
   ],
   "source": [
    "phone_brand_device_modelData=pd.read_csv(\"phone_brand_device_model.csv\")\n",
    "phone_brand_device_modelData[0:5]"
   ]
  },
  {
   "cell_type": "code",
   "execution_count": null,
   "metadata": {
    "collapsed": true
   },
   "outputs": [],
   "source": [
    "#Need to Autoate handling chinese names"
   ]
  }
 ],
 "metadata": {
  "kernelspec": {
   "display_name": "Python 3",
   "language": "python",
   "name": "python3"
  },
  "language_info": {
   "codemirror_mode": {
    "name": "ipython",
    "version": 3
   },
   "file_extension": ".py",
   "mimetype": "text/x-python",
   "name": "python",
   "nbconvert_exporter": "python",
   "pygments_lexer": "ipython3",
   "version": "3.5.1"
  }
 },
 "nbformat": 4,
 "nbformat_minor": 0
}
