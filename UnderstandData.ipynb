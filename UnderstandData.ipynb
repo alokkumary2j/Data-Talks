{
 "cells": [
  {
   "cell_type": "code",
   "execution_count": 1,
   "metadata": {
    "collapsed": false
   },
   "outputs": [],
   "source": [
    "import numpy as np\n",
    "import pandas as pd\n",
    "import matplotlib.pyplot as plt\n",
    "plt.style.use('ggplot')"
   ]
  },
  {
   "cell_type": "code",
   "execution_count": 2,
   "metadata": {
    "collapsed": true
   },
   "outputs": [],
   "source": [
    "trainFile=pd.read_csv(\"gender_age_train.csv\")\n",
    "testFile=pd.read_csv(\"gender_age_test.csv\")"
   ]
  },
  {
   "cell_type": "code",
   "execution_count": 3,
   "metadata": {
    "collapsed": false
   },
   "outputs": [
    {
     "data": {
      "text/html": [
       "<div>\n",
       "<table border=\"1\" class=\"dataframe\">\n",
       "  <thead>\n",
       "    <tr style=\"text-align: right;\">\n",
       "      <th></th>\n",
       "      <th>device_id</th>\n",
       "      <th>gender</th>\n",
       "      <th>age</th>\n",
       "      <th>group</th>\n",
       "    </tr>\n",
       "  </thead>\n",
       "  <tbody>\n",
       "    <tr>\n",
       "      <th>0</th>\n",
       "      <td>-8076087639492063270</td>\n",
       "      <td>M</td>\n",
       "      <td>35</td>\n",
       "      <td>M32-38</td>\n",
       "    </tr>\n",
       "  </tbody>\n",
       "</table>\n",
       "</div>"
      ],
      "text/plain": [
       "             device_id gender  age   group\n",
       "0 -8076087639492063270      M   35  M32-38"
      ]
     },
     "execution_count": 3,
     "metadata": {},
     "output_type": "execute_result"
    }
   ],
   "source": [
    "#print(trainFile.shape)#(74654,4)\n",
    "trainFile[0:1]"
   ]
  },
  {
   "cell_type": "code",
   "execution_count": 4,
   "metadata": {
    "collapsed": false
   },
   "outputs": [
    {
     "data": {
      "text/html": [
       "<div>\n",
       "<table border=\"1\" class=\"dataframe\">\n",
       "  <thead>\n",
       "    <tr style=\"text-align: right;\">\n",
       "      <th></th>\n",
       "      <th>device_id</th>\n",
       "    </tr>\n",
       "  </thead>\n",
       "  <tbody>\n",
       "    <tr>\n",
       "      <th>0</th>\n",
       "      <td>1002079943728939269</td>\n",
       "    </tr>\n",
       "  </tbody>\n",
       "</table>\n",
       "</div>"
      ],
      "text/plain": [
       "             device_id\n",
       "0  1002079943728939269"
      ]
     },
     "execution_count": 4,
     "metadata": {},
     "output_type": "execute_result"
    }
   ],
   "source": [
    "#print(testFile.shape)#(112071,1)\n",
    "testFile[0:1]"
   ]
  },
  {
   "cell_type": "code",
   "execution_count": 5,
   "metadata": {
    "collapsed": false
   },
   "outputs": [
    {
     "name": "stdout",
     "output_type": "stream",
     "text": [
      "[('F43+', 4194), ('M32-38', 9476), ('F23-', 5050), ('F24-26', 4190), ('M22-', 7488), ('M39+', 8581), ('F29-32', 4628), ('M27-28', 5445), ('F33-42', 5561), ('M29-31', 7309), ('F27-28', 3118), ('M23-26', 9605)]\n"
     ]
    }
   ],
   "source": [
    "#Understanding Target Value Characteristics(Regression w.r.t. Age, Classification w.r.t. Gender)\n",
    "trainGrpBy=trainFile.groupby(\"group\")\n",
    "trainGroups=trainGrpBy.groups\n",
    "trainGroupDict=[(key,len(trainGroups[key])) for key in trainGroups.keys()]\n",
    "print(trainGroupDict)\n",
    "#Female Groups are : F23-,F24-26,F27-28,F29-32,F33-42,F43+\n",
    "#Male Groups are : M22-,M23-26,M27-28,M29-31,M32-38,M39+"
   ]
  },
  {
   "cell_type": "code",
   "execution_count": 6,
   "metadata": {
    "collapsed": false
   },
   "outputs": [
    {
     "data": {
      "text/plain": [
       "74645"
      ]
     },
     "execution_count": 6,
     "metadata": {},
     "output_type": "execute_result"
    }
   ],
   "source": [
    "len(trainFile.groupby('device_id').groups.keys())#Number of unique device_ids: 74645 i.e. All device_id are unique"
   ]
  },
  {
   "cell_type": "code",
   "execution_count": 7,
   "metadata": {
    "collapsed": false
   },
   "outputs": [
    {
     "data": {
      "text/html": [
       "<div>\n",
       "<table border=\"1\" class=\"dataframe\">\n",
       "  <thead>\n",
       "    <tr style=\"text-align: right;\">\n",
       "      <th></th>\n",
       "      <th>device_id</th>\n",
       "      <th>age</th>\n",
       "    </tr>\n",
       "  </thead>\n",
       "  <tbody>\n",
       "    <tr>\n",
       "      <th>count</th>\n",
       "      <td>7.464500e+04</td>\n",
       "      <td>74645.000000</td>\n",
       "    </tr>\n",
       "    <tr>\n",
       "      <th>mean</th>\n",
       "      <td>-7.491354e+14</td>\n",
       "      <td>31.410342</td>\n",
       "    </tr>\n",
       "    <tr>\n",
       "      <th>std</th>\n",
       "      <td>5.327150e+18</td>\n",
       "      <td>9.868735</td>\n",
       "    </tr>\n",
       "    <tr>\n",
       "      <th>min</th>\n",
       "      <td>-9.223067e+18</td>\n",
       "      <td>1.000000</td>\n",
       "    </tr>\n",
       "    <tr>\n",
       "      <th>25%</th>\n",
       "      <td>-4.617367e+18</td>\n",
       "      <td>25.000000</td>\n",
       "    </tr>\n",
       "    <tr>\n",
       "      <th>50%</th>\n",
       "      <td>-1.841362e+16</td>\n",
       "      <td>29.000000</td>\n",
       "    </tr>\n",
       "    <tr>\n",
       "      <th>75%</th>\n",
       "      <td>4.636656e+18</td>\n",
       "      <td>36.000000</td>\n",
       "    </tr>\n",
       "    <tr>\n",
       "      <th>max</th>\n",
       "      <td>9.222849e+18</td>\n",
       "      <td>96.000000</td>\n",
       "    </tr>\n",
       "  </tbody>\n",
       "</table>\n",
       "</div>"
      ],
      "text/plain": [
       "          device_id           age\n",
       "count  7.464500e+04  74645.000000\n",
       "mean  -7.491354e+14     31.410342\n",
       "std    5.327150e+18      9.868735\n",
       "min   -9.223067e+18      1.000000\n",
       "25%   -4.617367e+18     25.000000\n",
       "50%   -1.841362e+16     29.000000\n",
       "75%    4.636656e+18     36.000000\n",
       "max    9.222849e+18     96.000000"
      ]
     },
     "execution_count": 7,
     "metadata": {},
     "output_type": "execute_result"
    }
   ],
   "source": [
    "trainFile.describe()#Interesting we have a Kid of Age 1 and grandpa having age 96 using Mobile Device :-)\n",
    "#But Most of the users are withing age group 25 to 36"
   ]
  },
  {
   "cell_type": "code",
   "execution_count": 8,
   "metadata": {
    "collapsed": false
   },
   "outputs": [
    {
     "name": "stdout",
     "output_type": "stream",
     "text": [
      "   event_id            device_id            timestamp  longitude  latitude\n",
      "0         1    29182687948017175  2016-05-01 00:55:25     121.38     31.24\n",
      "1         2 -6401643145415154744  2016-05-01 00:54:12     103.65     30.97\n"
     ]
    }
   ],
   "source": [
    "eventsData=pd.read_csv(\"events_subset.csv\")\n",
    "print(eventsData[0:2])\n",
    "#eventsData.describe()\n",
    "#event_id is PK here;device_id may get duplicated\n",
    "#longitude: -180 to 151 : Continuous\n",
    "#latitude: -37 to 53.64 : Continuous"
   ]
  },
  {
   "cell_type": "code",
   "execution_count": 9,
   "metadata": {
    "collapsed": false
   },
   "outputs": [
    {
     "name": "stdout",
     "output_type": "stream",
     "text": [
      "[(1186608308763918427, 937), (3915082290673137129, 493), (-1656894751624916732, 229), (2504414082456157897, 135), (-3746248670824158209, 115), (-7369693784883843916, 113), (8339429008953975436, 110), (-6242501228649113250, 110), (-17299534936664237, 108), (-8340098378141155823, 104)]\n"
     ]
    }
   ],
   "source": [
    "deviceIdGroup=eventsData.groupby(\"device_id\").groups\n",
    "deviceIDGroupDict=[(key,len(deviceIdGroup[key])) for key in deviceIdGroup.keys()]\n",
    "#sorted(deviceIDGroupDict)\n",
    "mostActiveDeviceIds=sorted(deviceIDGroupDict,key=lambda x: x[1],reverse=True)[0:10]\n",
    "print(mostActiveDeviceIds)"
   ]
  },
  {
   "cell_type": "code",
   "execution_count": 20,
   "metadata": {
    "collapsed": false
   },
   "outputs": [
    {
     "data": {
      "text/html": [
       "<div>\n",
       "<table border=\"1\" class=\"dataframe\">\n",
       "  <thead>\n",
       "    <tr style=\"text-align: right;\">\n",
       "      <th></th>\n",
       "      <th>event_id</th>\n",
       "      <th>device_id</th>\n",
       "      <th>longitude</th>\n",
       "      <th>latitude</th>\n",
       "    </tr>\n",
       "  </thead>\n",
       "  <tbody>\n",
       "    <tr>\n",
       "      <th>event_id</th>\n",
       "      <td>1.000000</td>\n",
       "      <td>0.001050</td>\n",
       "      <td>-0.003879</td>\n",
       "      <td>-0.004633</td>\n",
       "    </tr>\n",
       "    <tr>\n",
       "      <th>device_id</th>\n",
       "      <td>0.001050</td>\n",
       "      <td>1.000000</td>\n",
       "      <td>-0.013765</td>\n",
       "      <td>-0.007659</td>\n",
       "    </tr>\n",
       "    <tr>\n",
       "      <th>longitude</th>\n",
       "      <td>-0.003879</td>\n",
       "      <td>-0.013765</td>\n",
       "      <td>1.000000</td>\n",
       "      <td>0.947287</td>\n",
       "    </tr>\n",
       "    <tr>\n",
       "      <th>latitude</th>\n",
       "      <td>-0.004633</td>\n",
       "      <td>-0.007659</td>\n",
       "      <td>0.947287</td>\n",
       "      <td>1.000000</td>\n",
       "    </tr>\n",
       "  </tbody>\n",
       "</table>\n",
       "</div>"
      ],
      "text/plain": [
       "           event_id  device_id  longitude  latitude\n",
       "event_id   1.000000   0.001050  -0.003879 -0.004633\n",
       "device_id  0.001050   1.000000  -0.013765 -0.007659\n",
       "longitude -0.003879  -0.013765   1.000000  0.947287\n",
       "latitude  -0.004633  -0.007659   0.947287  1.000000"
      ]
     },
     "execution_count": 20,
     "metadata": {},
     "output_type": "execute_result"
    }
   ],
   "source": [
    "#As expected => Very High Correlation between longitude and latitude : 0.947287\n",
    "eventsData.corr()"
   ]
  },
  {
   "cell_type": "code",
   "execution_count": 18,
   "metadata": {
    "collapsed": false
   },
   "outputs": [],
   "source": [
    "deviceIdGroupObj=eventsData.groupby(\"device_id\")\n",
    "deviceIdGroupObj.ngroups#27310 Unique values of Device_id\n",
    "eventsData[eventsData.device_id==29182687948017175]#Observation Location Doesn't change that frequently\n",
    "eventsDataFor1Device=eventsData[eventsData.device_id==mostActiveDeviceIds[0][0]]\n",
    "eventsDataFor1Device=eventsDataFor1Device.sort_values(['timestamp'])\n",
    "eventsDataFor1Device.plot(x='timestamp',y='longitude')\n",
    "eventsDataFor1Device.plot(x='timestamp',y='latitude')\n",
    "plt.show()#Very Random Movement in long and lat data : Seems like this Person travels a lot"
   ]
  },
  {
   "cell_type": "code",
   "execution_count": 22,
   "metadata": {
    "collapsed": true
   },
   "outputs": [],
   "source": [
    "eventsDataFor2Device=eventsData[eventsData.device_id==mostActiveDeviceIds[1][0]].sort_values(['timestamp'])\n",
    "eventsDataFor2Device.plot(x='timestamp',y='longitude')\n",
    "eventsDataFor2Device.plot(x='timestamp',y='latitude')\n",
    "plt.show()#Again the second most active person also moves/travels a lot\n",
    "#Simailar to 1st person=>long and lat values are frequently dropping to 0[Not sure if there is N/w issue at his place]"
   ]
  },
  {
   "cell_type": "code",
   "execution_count": 23,
   "metadata": {
    "collapsed": true
   },
   "outputs": [],
   "source": [
    "eventsDataFor3Device=eventsData[eventsData.device_id==mostActiveDeviceIds[2][0]].sort_values(['timestamp'])\n",
    "eventsDataFor3Device.plot(x='timestamp',y='longitude')\n",
    "eventsDataFor3Device.plot(x='timestamp',y='latitude')\n",
    "plt.show()#If we ignore sudden 0's : 3rd most active person doesn't move/travel a lot\n",
    "#Simailar to 1st and 2nd person=>long and lat values are frequently 0[N/w issue ??]"
   ]
  },
  {
   "cell_type": "code",
   "execution_count": 24,
   "metadata": {
    "collapsed": false
   },
   "outputs": [
    {
     "data": {
      "text/plain": [
       "(array([ 4529, 35717], dtype=int32),)"
      ]
     },
     "execution_count": 24,
     "metadata": {},
     "output_type": "execute_result"
    }
   ],
   "source": [
    "#eventsData[]\n",
    "np.where(eventsData['device_id']==-9220329415676028483)"
   ]
  },
  {
   "cell_type": "code",
   "execution_count": 25,
   "metadata": {
    "collapsed": true
   },
   "outputs": [],
   "source": [
    "app_eventsData=pd.read_csv(\"app_events_subset.csv\")"
   ]
  },
  {
   "cell_type": "code",
   "execution_count": 26,
   "metadata": {
    "collapsed": false
   },
   "outputs": [
    {
     "data": {
      "text/html": [
       "<div>\n",
       "<table border=\"1\" class=\"dataframe\">\n",
       "  <thead>\n",
       "    <tr style=\"text-align: right;\">\n",
       "      <th></th>\n",
       "      <th>event_id</th>\n",
       "      <th>app_id</th>\n",
       "      <th>is_installed</th>\n",
       "      <th>is_active</th>\n",
       "    </tr>\n",
       "  </thead>\n",
       "  <tbody>\n",
       "    <tr>\n",
       "      <th>0</th>\n",
       "      <td>2</td>\n",
       "      <td>5927333115845830913</td>\n",
       "      <td>1</td>\n",
       "      <td>1</td>\n",
       "    </tr>\n",
       "    <tr>\n",
       "      <th>1</th>\n",
       "      <td>2</td>\n",
       "      <td>-5720078949152207372</td>\n",
       "      <td>1</td>\n",
       "      <td>0</td>\n",
       "    </tr>\n",
       "    <tr>\n",
       "      <th>2</th>\n",
       "      <td>2</td>\n",
       "      <td>-1633887856876571208</td>\n",
       "      <td>1</td>\n",
       "      <td>0</td>\n",
       "    </tr>\n",
       "    <tr>\n",
       "      <th>3</th>\n",
       "      <td>2</td>\n",
       "      <td>-653184325010919369</td>\n",
       "      <td>1</td>\n",
       "      <td>1</td>\n",
       "    </tr>\n",
       "  </tbody>\n",
       "</table>\n",
       "</div>"
      ],
      "text/plain": [
       "   event_id               app_id  is_installed  is_active\n",
       "0         2  5927333115845830913             1          1\n",
       "1         2 -5720078949152207372             1          0\n",
       "2         2 -1633887856876571208             1          0\n",
       "3         2  -653184325010919369             1          1"
      ]
     },
     "execution_count": 26,
     "metadata": {},
     "output_type": "execute_result"
    }
   ],
   "source": [
    "app_eventsData[0:4]"
   ]
  },
  {
   "cell_type": "code",
   "execution_count": null,
   "metadata": {
    "collapsed": true
   },
   "outputs": [],
   "source": []
  },
  {
   "cell_type": "code",
   "execution_count": null,
   "metadata": {
    "collapsed": true
   },
   "outputs": [],
   "source": []
  },
  {
   "cell_type": "code",
   "execution_count": null,
   "metadata": {
    "collapsed": true
   },
   "outputs": [],
   "source": []
  },
  {
   "cell_type": "code",
   "execution_count": null,
   "metadata": {
    "collapsed": true
   },
   "outputs": [],
   "source": []
  },
  {
   "cell_type": "code",
   "execution_count": null,
   "metadata": {
    "collapsed": true
   },
   "outputs": [],
   "source": []
  },
  {
   "cell_type": "code",
   "execution_count": null,
   "metadata": {
    "collapsed": true
   },
   "outputs": [],
   "source": []
  }
 ],
 "metadata": {
  "kernelspec": {
   "display_name": "Python 3",
   "language": "python",
   "name": "python3"
  },
  "language_info": {
   "codemirror_mode": {
    "name": "ipython",
    "version": 3
   },
   "file_extension": ".py",
   "mimetype": "text/x-python",
   "name": "python",
   "nbconvert_exporter": "python",
   "pygments_lexer": "ipython3",
   "version": "3.5.1"
  }
 },
 "nbformat": 4,
 "nbformat_minor": 0
}
